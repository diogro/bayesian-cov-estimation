{
 "metadata": {
  "name": "Simple Gaussian Model"
 },
 "nbformat": 3,
 "nbformat_minor": 0,
 "worksheets": [
  {
   "cells": [
    {
     "cell_type": "code",
     "collapsed": false,
     "input": [
      "# conteudo do arquivo simple_normal_model\n",
      "\n",
      "import pymc as pm\n",
      "import numpy as np\n",
      "\n",
      "# Criando parametros conhecidos\n",
      "original_sigma = np.array([[1, 0.5], [0.5, 1]])\n",
      "original_theta = [1, -1]\n",
      "\n",
      "# Simulando dados com media theta e covariancia sigma\n",
      "data = np.random.multivariate_normal(original_theta, original_sigma, 100)\n",
      "\n",
      "# Definindo priors, Wishart pra sigma e normal pra theta\n",
      "sigma = pm.WishartCov('sigma', n=3, C=np.eye(2), value=np.eye(2))\n",
      "\n",
      "theta = pm.MvNormalCov('theta', mu=[0.,0.], C=np.eye(2), value=[0.,0.])\n",
      "\n",
      "# Verossimilhanca gaussiana com media theta e covariancia sigma\n",
      "x = pm.MvNormalCov('x', theta, sigma, value=data, observed=True)"
     ],
     "language": "python",
     "metadata": {},
     "outputs": []
    },
    {
     "cell_type": "code",
     "collapsed": false,
     "input": [
      "import simple_normal_model"
     ],
     "language": "python",
     "metadata": {},
     "outputs": []
    },
    {
     "cell_type": "code",
     "collapsed": false,
     "input": [
      "M = pm.MCMC(simple_normal_model)\n",
      "M.sample(iter=10000, burn=1000, thin=10)"
     ],
     "language": "python",
     "metadata": {},
     "outputs": []
    },
    {
     "cell_type": "code",
     "collapsed": false,
     "input": [
      "from pylab import hist, show\n",
      "\n",
      "hist(M.trace('theta')[:])"
     ],
     "language": "python",
     "metadata": {},
     "outputs": []
    },
    {
     "cell_type": "code",
     "collapsed": false,
     "input": [
      "pm.graph.graph(M,format='png',path='',name='graph_mine',prog='dot')"
     ],
     "language": "python",
     "metadata": {},
     "outputs": []
    },
    {
     "cell_type": "code",
     "collapsed": false,
     "input": [
      "from pymc.Matplot import plot\n",
      "plot(M)\n",
      "show()"
     ],
     "language": "python",
     "metadata": {},
     "outputs": []
    },
    {
     "cell_type": "code",
     "collapsed": false,
     "input": [
      "M.stats()"
     ],
     "language": "python",
     "metadata": {},
     "outputs": []
    },
    {
     "cell_type": "code",
     "collapsed": false,
     "input": [],
     "language": "python",
     "metadata": {},
     "outputs": []
    }
   ],
   "metadata": {}
  }
 ]
}