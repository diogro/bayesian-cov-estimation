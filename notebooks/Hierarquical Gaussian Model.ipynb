{
 "metadata": {
  "name": "Hierarquical Gaussian Model"
 },
 "nbformat": 3,
 "nbformat_minor": 0,
 "worksheets": [
  {
   "cells": [
    {
     "cell_type": "code",
     "collapsed": false,
     "input": [
      "import os, sys, inspect\n",
      "# realpath() with make your script run, even if you symlink it :)\n",
      "cmd_folder = os.path.realpath(os.path.abspath(os.path.split(inspect.getfile( inspect.currentframe() ))[0]))\n",
      "if cmd_folder not in sys.path:\n",
      "    sys.path.insert(0, cmd_folder)\n",
      "\n",
      "# use this if you want to include modules from a subforder\n",
      "cmd_subfolder = os.path.realpath(os.path.abspath(os.path.join(os.path.split(inspect.getfile( inspect.currentframe() ))[0],\"../models\")))\n",
      "if cmd_subfolder not in sys.path:\n",
      "    sys.path.insert(0, cmd_subfolder)\n",
      "\n",
      "cmd_subfolder = os.path.realpath(os.path.abspath(os.path.join(os.path.split(inspect.getfile( inspect.currentframe() ))[0],\"../utils\")))\n",
      "if cmd_subfolder not in sys.path:\n",
      "    sys.path.insert(0, cmd_subfolder)\n",
      "\n",
      "import pymc as pm\n",
      "import hierarquical_normal_model"
     ],
     "language": "python",
     "metadata": {},
     "outputs": [],
     "prompt_number": 1
    },
    {
     "cell_type": "code",
     "collapsed": false,
     "input": [
      "M = pm.MCMC(hierarquical_normal_model)\n",
      "M.sample(iter=10000, burn=1000, thin=10)"
     ],
     "language": "python",
     "metadata": {},
     "outputs": [
      {
       "output_type": "stream",
       "stream": "stdout",
       "text": [
        " \r",
        "[****************100%******************]  10000 of 10000 complete"
       ]
      },
      {
       "output_type": "stream",
       "stream": "stdout",
       "text": [
        "\n"
       ]
      }
     ],
     "prompt_number": 2
    },
    {
     "cell_type": "code",
     "collapsed": false,
     "input": [
      "from pylab import hist, show\n",
      "\n",
      "hist(M.trace('theta')[:])"
     ],
     "language": "python",
     "metadata": {},
     "outputs": [
      {
       "output_type": "pyout",
       "prompt_number": 3,
       "text": [
        "([array([  0,   1,   8,  24, 126, 298, 325, 103,  13,   2]),\n",
        "  array([  3,  28, 154, 363, 259,  82,   9,   2,   0,   0])],\n",
        " array([-2.22685054, -1.75353389, -1.28021724, -0.80690059, -0.33358394,\n",
        "        0.13973271,  0.61304936,  1.08636601,  1.55968266,  2.03299931,\n",
        "        2.50631596]),\n",
        " <a list of 2 Lists of Patches objects>)"
       ]
      },
      {
       "output_type": "display_data",
       "png": "[encoded data removed]"
      }
     ],
     "prompt_number": 3
    },
    {
     "cell_type": "code",
     "collapsed": false,
     "input": [
      "pm.graph.graph(M,format='png',path='',name='graph_mine',prog='dot')"
     ],
     "language": "python",
     "metadata": {},
     "outputs": []
    },
    {
     "cell_type": "code",
     "collapsed": false,
     "input": [
      "from pymc.Matplot import plot\n",
      "plot(M)\n",
      "show()"
     ],
     "language": "python",
     "metadata": {},
     "outputs": []
    },
    {
     "cell_type": "code",
     "collapsed": false,
     "input": [
      "M.stats()"
     ],
     "language": "python",
     "metadata": {},
     "outputs": []
    },
    {
     "cell_type": "code",
     "collapsed": false,
     "input": [],
     "language": "python",
     "metadata": {},
     "outputs": []
    }
   ],
   "metadata": {}
  }
 ]
}