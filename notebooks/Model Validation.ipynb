{
 "metadata": {
  "name": ""
 },
 "nbformat": 3,
 "nbformat_minor": 0,
 "worksheets": [
  {
   "cells": [
    {
     "cell_type": "code",
     "collapsed": false,
     "input": [
      "import os, sys, inspect\n",
      "# realpath() with make your script run, even if you symlink it :)\n",
      "cmd_folder = os.path.realpath(os.path.abspath(os.path.split(inspect.getfile( inspect.currentframe() ))[0]))\n",
      "if cmd_folder not in sys.path:\n",
      "    sys.path.insert(0, cmd_folder)\n",
      "\n",
      "# use this if you want to include modules from a subforder\n",
      "cmd_subfolder = os.path.realpath(os.path.abspath(os.path.join(os.path.split(inspect.getfile( inspect.currentframe() ))[0],\"../models\")))\n",
      "if cmd_subfolder not in sys.path:\n",
      "    sys.path.insert(0, cmd_subfolder)\n",
      "\n",
      "cmd_subfolder = os.path.realpath(os.path.abspath(os.path.join(os.path.split(inspect.getfile( inspect.currentframe() ))[0],\"../utils\")))\n",
      "if cmd_subfolder not in sys.path:\n",
      "    sys.path.insert(0, cmd_subfolder)"
     ],
     "language": "python",
     "metadata": {},
     "outputs": [],
     "prompt_number": 64
    },
    {
     "cell_type": "code",
     "collapsed": false,
     "input": [
      "import dendropy as dp\n",
      "\n",
      "node_name = lambda n: str(n.label or n.taxon or n)\n",
      "t = dp.treesim.birth_death(0.5, 0.1, ntax = 16)\n",
      "for number,n in enumerate(t.internal_nodes()):\n",
      "    if not n.taxon:\n",
      "        n.label = str(number)        \n",
      "t.print_plot(leaf_spacing_factor = 2, display_width = 100, show_internal_node_labels = True)\n",
      "t.write_to_path(\"../trees/random_tree.nw\", \"newick\")"
     ],
     "language": "python",
     "metadata": {},
     "outputs": [
      {
       "output_type": "stream",
       "stream": "stdout",
       "text": [
        "                                                                        /----------------------- T1 \n",
        "                                                            /-----------5                           \n",
        "                                                            |           |           /----------- T2 \n",
        "                                                            |           \\-----------6               \n",
        "                                                /-----------4                       \\----------- T3 \n",
        "                                                |           |                                       \n",
        "                                                |           |                       /----------- T4 \n",
        "                        /-----------------------3           \\-----------------------7               \n",
        "                        |                       |                                   \\----------- T5 \n",
        "                        |                       |                                                   \n",
        "                        |                       \\----------------------------------------------- T6 \n",
        "                        |                                                                           \n",
        "                        |                                                           /----------- T7 \n",
        "            /-----------2                       /-----------------------------------10              \n",
        "            |           |                       |                                   \\----------- T8 \n",
        "            |           |           /-----------9                                                   \n",
        "            |           |           |           |           /----------------------------------- T9 \n",
        "            |           |           |           |           |                                       \n",
        "            |           |           |           \\-----------11                      /----------- T10\n",
        "            |           |           |                       |           /-----------13              \n",
        "/-----------1           \\-----------8                       \\-----------12          \\----------- T11\n",
        "|           |                       |                                   |                           \n",
        "|           |                       |                                   \\----------------------- T12\n",
        "|           |                       |                                                               \n",
        "|           |                       |                                               /----------- T13\n",
        "0           |                       \\-----------------------------------------------14              \n",
        "|           |                                                                       \\----------- T14\n",
        "|           |                                                                                       \n",
        "|           \\----------------------------------------------------------------------------------- T15\n",
        "|                                                                                                   \n",
        "\\----------------------------------------------------------------------------------------------- T16\n",
        "                                                                                                    \n",
        "                                                                                                    \n"
       ]
      }
     ],
     "prompt_number": 65
    },
    {
     "cell_type": "code",
     "collapsed": false,
     "input": [
      "param_pop_size = 10\n",
      "\n",
      "pop = np.random.multivariate_normal(10*np.ones(10), 2*np.eye(10), (param_pop_size)).T\n",
      "data_params = {\"0\": (pop.mean(1), \n",
      "              np.cov(pop))}\n",
      "for n in list(t.preorder_node_iter())[1:]:\n",
      "    node = node_name(n)\n",
      "    parent = node_name(n.parent_node)\n",
      "    pop = np.random.multivariate_normal(data_params[parent][0], data_params[parent][1], (param_pop_size)).T\n",
      "    theta = pop.mean(1)\n",
      "    sigma = np.cov(pop)\n",
      "    data_params[node] = (theta, sigma)"
     ],
     "language": "python",
     "metadata": {},
     "outputs": [],
     "prompt_number": 66
    },
    {
     "cell_type": "code",
     "collapsed": false,
     "input": [
      "import pandas as pd\n",
      "\n",
      "pop_size = 20\n",
      "\n",
      "traits = list(range(10))\n",
      "traits.append('genus')\n",
      "data = pd.DataFrame(columns=traits)\n",
      "traits = list(range(10))\n",
      "for species in t.leaf_nodes():\n",
      "    node = node_name(species)\n",
      "    df = pd.DataFrame(np.array(np.random.multivariate_normal(data_params[node][0], data_params[node][1], pop_size)))\n",
      "    df['genus'] = node\n",
      "    data = data.append(df)\n",
      "data.to_csv(\"../dados/random_data.csv\", index_label=False)"
     ],
     "language": "python",
     "metadata": {},
     "outputs": [],
     "prompt_number": 67
    },
    {
     "cell_type": "code",
     "collapsed": false,
     "input": [
      "data.describe()"
     ],
     "language": "python",
     "metadata": {},
     "outputs": [
      {
       "html": [
        "<div style=\"max-height:1000px;max-width:1500px;overflow:auto;\">\n",
        "<table border=\"1\" class=\"dataframe\">\n",
        "  <thead>\n",
        "    <tr style=\"text-align: right;\">\n",
        "      <th></th>\n",
        "      <th>0</th>\n",
        "      <th>1</th>\n",
        "      <th>2</th>\n",
        "      <th>3</th>\n",
        "      <th>4</th>\n",
        "      <th>5</th>\n",
        "      <th>6</th>\n",
        "      <th>7</th>\n",
        "      <th>8</th>\n",
        "      <th>9</th>\n",
        "    </tr>\n",
        "  </thead>\n",
        "  <tbody>\n",
        "    <tr>\n",
        "      <th>count</th>\n",
        "      <td> 320.000000</td>\n",
        "      <td> 320.000000</td>\n",
        "      <td> 320.000000</td>\n",
        "      <td> 320.000000</td>\n",
        "      <td> 320.000000</td>\n",
        "      <td> 320.000000</td>\n",
        "      <td> 320.000000</td>\n",
        "      <td> 320.000000</td>\n",
        "      <td> 320.000000</td>\n",
        "      <td> 320.000000</td>\n",
        "    </tr>\n",
        "    <tr>\n",
        "      <th>mean</th>\n",
        "      <td>  10.751615</td>\n",
        "      <td>   9.350763</td>\n",
        "      <td>   8.739665</td>\n",
        "      <td>  10.068697</td>\n",
        "      <td>  10.082300</td>\n",
        "      <td>   9.192594</td>\n",
        "      <td>   9.813634</td>\n",
        "      <td>   8.832930</td>\n",
        "      <td>  10.745958</td>\n",
        "      <td>  10.713550</td>\n",
        "    </tr>\n",
        "    <tr>\n",
        "      <th>std</th>\n",
        "      <td>   1.478374</td>\n",
        "      <td>   1.134694</td>\n",
        "      <td>   1.910885</td>\n",
        "      <td>   0.628513</td>\n",
        "      <td>   1.109254</td>\n",
        "      <td>   1.488608</td>\n",
        "      <td>   1.225144</td>\n",
        "      <td>   1.219064</td>\n",
        "      <td>   1.935115</td>\n",
        "      <td>   1.660994</td>\n",
        "    </tr>\n",
        "    <tr>\n",
        "      <th>min</th>\n",
        "      <td>   5.156887</td>\n",
        "      <td>   4.290712</td>\n",
        "      <td>   2.440091</td>\n",
        "      <td>   8.004246</td>\n",
        "      <td>   5.603387</td>\n",
        "      <td>   3.643542</td>\n",
        "      <td>   5.401112</td>\n",
        "      <td>   4.000418</td>\n",
        "      <td>   4.876862</td>\n",
        "      <td>   4.587316</td>\n",
        "    </tr>\n",
        "    <tr>\n",
        "      <th>25%</th>\n",
        "      <td>  10.012225</td>\n",
        "      <td>   8.875231</td>\n",
        "      <td>   7.471056</td>\n",
        "      <td>   9.683197</td>\n",
        "      <td>   9.426839</td>\n",
        "      <td>   8.257171</td>\n",
        "      <td>   9.212717</td>\n",
        "      <td>   8.168865</td>\n",
        "      <td>   9.547822</td>\n",
        "      <td>   9.801791</td>\n",
        "    </tr>\n",
        "    <tr>\n",
        "      <th>50%</th>\n",
        "      <td>  10.792550</td>\n",
        "      <td>   9.336430</td>\n",
        "      <td>   8.728433</td>\n",
        "      <td>  10.042900</td>\n",
        "      <td>  10.025812</td>\n",
        "      <td>   9.016290</td>\n",
        "      <td>   9.873345</td>\n",
        "      <td>   8.751614</td>\n",
        "      <td>  10.882604</td>\n",
        "      <td>  10.657819</td>\n",
        "    </tr>\n",
        "    <tr>\n",
        "      <th>75%</th>\n",
        "      <td>  11.623547</td>\n",
        "      <td>   9.784029</td>\n",
        "      <td>   9.994164</td>\n",
        "      <td>  10.400121</td>\n",
        "      <td>  10.612165</td>\n",
        "      <td>  10.006341</td>\n",
        "      <td>  10.534274</td>\n",
        "      <td>   9.311348</td>\n",
        "      <td>  12.023031</td>\n",
        "      <td>  11.294386</td>\n",
        "    </tr>\n",
        "    <tr>\n",
        "      <th>max</th>\n",
        "      <td>  15.923886</td>\n",
        "      <td>  14.138158</td>\n",
        "      <td>  14.085619</td>\n",
        "      <td>  12.922259</td>\n",
        "      <td>  14.591054</td>\n",
        "      <td>  14.477664</td>\n",
        "      <td>  14.115771</td>\n",
        "      <td>  13.253889</td>\n",
        "      <td>  15.080149</td>\n",
        "      <td>  17.954279</td>\n",
        "    </tr>\n",
        "  </tbody>\n",
        "</table>\n",
        "</div>"
       ],
       "metadata": {},
       "output_type": "pyout",
       "prompt_number": 68,
       "text": [
        "                0           1           2           3           4           5           6           7           8           9\n",
        "count  320.000000  320.000000  320.000000  320.000000  320.000000  320.000000  320.000000  320.000000  320.000000  320.000000\n",
        "mean    10.751615    9.350763    8.739665   10.068697   10.082300    9.192594    9.813634    8.832930   10.745958   10.713550\n",
        "std      1.478374    1.134694    1.910885    0.628513    1.109254    1.488608    1.225144    1.219064    1.935115    1.660994\n",
        "min      5.156887    4.290712    2.440091    8.004246    5.603387    3.643542    5.401112    4.000418    4.876862    4.587316\n",
        "25%     10.012225    8.875231    7.471056    9.683197    9.426839    8.257171    9.212717    8.168865    9.547822    9.801791\n",
        "50%     10.792550    9.336430    8.728433   10.042900   10.025812    9.016290    9.873345    8.751614   10.882604   10.657819\n",
        "75%     11.623547    9.784029    9.994164   10.400121   10.612165   10.006341   10.534274    9.311348   12.023031   11.294386\n",
        "max     15.923886   14.138158   14.085619   12.922259   14.591054   14.477664   14.115771   13.253889   15.080149   17.954279"
       ]
      }
     ],
     "prompt_number": 68
    },
    {
     "cell_type": "code",
     "collapsed": false,
     "input": [
      "import pymc as pm\n",
      "import model_validation as model\n"
     ],
     "language": "python",
     "metadata": {},
     "outputs": [],
     "prompt_number": 69
    },
    {
     "cell_type": "code",
     "collapsed": false,
     "input": [
      "M = pm.MCMC(model, db='pickle', dbname='../pickles/model.validation.pickle')"
     ],
     "language": "python",
     "metadata": {},
     "outputs": [],
     "prompt_number": 70
    },
    {
     "cell_type": "code",
     "collapsed": false,
     "input": [
      "M.sample(iter=100000, burn=90000, thin=100)\n",
      "M.db.close()\n",
      "#db = pm.database.pickle.load('../pickles/model.validation.pickle')\n",
      "#M = pm.MCMC(model, db=db)"
     ],
     "language": "python",
     "metadata": {},
     "outputs": [
      {
       "output_type": "stream",
       "stream": "stdout",
       "text": [
        "\r",
        " [                  0%                  ] 54 of 100000 complete in 0.5 sec"
       ]
      },
      {
       "output_type": "stream",
       "stream": "stdout",
       "text": [
        "\r",
        " [                  0%                  ] 107 of 100000 complete in 1.0 sec"
       ]
      },
      {
       "output_type": "stream",
       "stream": "stdout",
       "text": [
        "\r",
        " [                  0%                  ] 159 of 100000 complete in 1.5 sec"
       ]
      },
      {
       "output_type": "stream",
       "stream": "stdout",
       "text": [
        "\r",
        " [                  0%                  ] 213 of 100000 complete in 2.0 sec"
       ]
      },
      {
       "output_type": "stream",
       "stream": "stdout",
       "text": [
        "\r",
        " [                  0%                  ] 268 of 100000 complete in 2.5 sec"
       ]
      },
      {
       "output_type": "stream",
       "stream": "stdout",
       "text": [
        "\r",
        " [                  0%                  ] 323 of 100000 complete in 3.0 sec"
       ]
      },
      {
       "output_type": "stream",
       "stream": "stdout",
       "text": [
        "\r",
        " [                  0%                  ] 378 of 100000 complete in 3.5 sec"
       ]
      },
      {
       "output_type": "stream",
       "stream": "stdout",
       "text": [
        "\r",
        " [                  0%                  ] 433 of 100000 complete in 4.0 sec"
       ]
      },
      {
       "output_type": "stream",
       "stream": "stdout",
       "text": [
        "\r",
        " [                  0%                  ] 488 of 100000 complete in 4.5 sec"
       ]
      },
      {
       "output_type": "stream",
       "stream": "stdout",
       "text": [
        "\r",
        " [                  0%                  ] 543 of 100000 complete in 5.1 sec"
       ]
      },
      {
       "output_type": "stream",
       "stream": "stdout",
       "text": [
        "\r",
        " [                  0%                  ] 598 of 100000 complete in 5.6 sec"
       ]
      },
      {
       "output_type": "stream",
       "stream": "stdout",
       "text": [
        "\r",
        " [                  0%                  ] 653 of 100000 complete in 6.1 sec"
       ]
      },
      {
       "output_type": "stream",
       "stream": "stdout",
       "text": [
        "\r",
        " [                  0%                  ] 708 of 100000 complete in 6.6 sec"
       ]
      },
      {
       "output_type": "stream",
       "stream": "stdout",
       "text": [
        "\r",
        " [                  0%                  ] 762 of 100000 complete in 7.1 sec"
       ]
      },
      {
       "output_type": "stream",
       "stream": "stdout",
       "text": [
        "\r",
        " [                  0%                  ] 817 of 100000 complete in 7.6 sec"
       ]
      },
      {
       "output_type": "stream",
       "stream": "stdout",
       "text": [
        "\r",
        " [                  0%                  ] 872 of 100000 complete in 8.1 sec"
       ]
      },
      {
       "output_type": "stream",
       "stream": "stdout",
       "text": [
        "\r",
        " [                  0%                  ] 927 of 100000 complete in 8.6 sec"
       ]
      }
     ],
     "prompt_number": "*"
    },
    {
     "cell_type": "code",
     "collapsed": false,
     "input": [
      "pm.graph.graph(M,format='png',path='',name='random-model',prog='dot')"
     ],
     "language": "python",
     "metadata": {},
     "outputs": [],
     "prompt_number": "*"
    },
    {
     "cell_type": "code",
     "collapsed": false,
     "input": [
      "import matrix_functions as mf\n",
      "\n",
      "bayes_means = {}\n",
      "bayes_matrices = {}\n",
      "\n",
      "for n in model.t.nodes():\n",
      "    name = model.node_name(n)\n",
      "    bayes_means[name] = M.theta[name].trace[:].mean(0)\n",
      "    bayes_var[name] = M.theta[name].trace[:].var(0)\n",
      "    bayes_matrices[name] = M.sigma[name].trace[:].mean(0)\n",
      "\n",
      "for i, n in enumerate(model.t.nodes()):\n",
      "    name = model.node_name(n)\n",
      "    figure(i)\n",
      "    #print str(name), str(n), monkey_model.node_sample_size[str(n)]\n",
      "    \n",
      "    print name, \"RS = \", mf.random_skewers(data_params[name][1], bayes_matrices[name])   \n",
      "    \n",
      "    ML_val, ML_vec = np.linalg.eig(data_params[name][1])\n",
      "    bayes_val, bayes_vec = np.linalg.eig(bayes_matrices[name])     \n",
      "                          \n",
      "    ML_val.sort()\n",
      "    bayes_val.sort()\n",
      "    \n",
      "    plot(ML_val, label='ML')\n",
      "    plot(bayes_val, label='Bayes')\n",
      "    legend()\n",
      "    title(name)\n",
      "    print data_params[name][0] - bayes_means[name]"
     ],
     "language": "python",
     "metadata": {},
     "outputs": [],
     "prompt_number": "*"
    },
    {
     "cell_type": "code",
     "collapsed": false,
     "input": [],
     "language": "python",
     "metadata": {},
     "outputs": [],
     "prompt_number": "*"
    },
    {
     "cell_type": "code",
     "collapsed": false,
     "input": [],
     "language": "python",
     "metadata": {},
     "outputs": []
    }
   ],
   "metadata": {}
  }
 ]
}