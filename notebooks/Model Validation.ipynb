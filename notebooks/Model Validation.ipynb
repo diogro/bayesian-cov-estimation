{
 "metadata": {
  "name": ""
 },
 "nbformat": 3,
 "nbformat_minor": 0,
 "worksheets": [
  {
   "cells": [
    {
     "cell_type": "code",
     "collapsed": false,
     "input": [
      "import os, sys, inspect\n",
      "# realpath() with make your script run, even if you symlink it :)\n",
      "cmd_folder = os.path.realpath(os.path.abspath(os.path.split(inspect.getfile( inspect.currentframe() ))[0]))\n",
      "if cmd_folder not in sys.path:\n",
      "    sys.path.insert(0, cmd_folder)\n",
      "\n",
      "# use this if you want to include modules from a subforder\n",
      "cmd_subfolder = os.path.realpath(os.path.abspath(os.path.join(os.path.split(inspect.getfile( inspect.currentframe() ))[0],\"../models\")))\n",
      "if cmd_subfolder not in sys.path:\n",
      "    sys.path.insert(0, cmd_subfolder)\n",
      "\n",
      "cmd_subfolder = os.path.realpath(os.path.abspath(os.path.join(os.path.split(inspect.getfile( inspect.currentframe() ))[0],\"../utils\")))\n",
      "if cmd_subfolder not in sys.path:\n",
      "    sys.path.insert(0, cmd_subfolder)"
     ],
     "language": "python",
     "metadata": {},
     "outputs": [],
     "prompt_number": 1
    },
    {
     "cell_type": "code",
     "collapsed": false,
     "input": [
      "import dendropy as dp\n",
      "\n",
      "num_taxa = 5\n",
      "\n",
      "node_name = lambda n: str(n.label or n.taxon or n)\n",
      "t = dp.treesim.birth_death(0.5, 0.1, ntax = num_taxa)\n",
      "t = dp.Tree.get_from_path(\"../trees/random_tree.nw\", \"newick\")\n",
      "for number,n in enumerate(t.internal_nodes()):\n",
      "    if not n.taxon:\n",
      "        n.label = str(number)        \n",
      "t.print_plot(leaf_spacing_factor = 2, display_width = 100, show_internal_node_labels = True)\n",
      "t.write_to_path(\"../trees/random_tree.nw\", \"newick\")"
     ],
     "language": "python",
     "metadata": {},
     "outputs": [
      {
       "output_type": "stream",
       "stream": "stdout",
       "text": [
        "/------------------------------------------------------------------------------------------------ T1\n",
        "|                                                                                                   \n",
        "0                                                               /-------------------------------- T2\n",
        "|                               /-------------------------------2                                   \n",
        "|                               |                               \\-------------------------------- T3\n",
        "\\-------------------------------1                                                                   \n",
        "                                |                               /-------------------------------- T4\n",
        "                                \\-------------------------------3                                   \n",
        "                                                                \\-------------------------------- T5\n",
        "                                                                                                    \n",
        "                                                                                                    \n"
       ]
      }
     ],
     "prompt_number": 2
    },
    {
     "cell_type": "code",
     "collapsed": false,
     "input": [
      "import pickle\n",
      "import randomCorr as rc\n",
      "\n",
      "param_pop_size = 10\n",
      "num_traits = int(4)\n",
      "\n",
      "variances = np.random.uniform(1, 20, num_traits)\n",
      "root_covariance = rc.rand_corr(num_traits, 1e-4) * outer(variances, variances)\n",
      "\n",
      "pop = np.random.multivariate_normal(5*np.ones(num_traits), root_covariance, (param_pop_size)).T\n",
      "data_params = {\"0\": (pop.mean(1), np.cov(pop))}\n",
      "for n in list(t.preorder_node_iter())[1:]:\n",
      "    node = node_name(n)\n",
      "    parent = node_name(n.parent_node)\n",
      "    pop = np.random.multivariate_normal(data_params[parent][0], data_params[parent][1], (param_pop_size)).T\n",
      "    theta = pop.mean(1)\n",
      "    sigma = np.cov(pop)\n",
      "    data_params[node] = (theta, sigma)\n",
      "filehandler = open(b\"../dados/data_params.obj\",\"wb\")\n",
      "pickle.dump(data_params,filehandler)\n",
      "\n",
      "filehandler = open(\"../dados/data_params.obj\",'r')\n",
      "data_params = pickle.load(filehandler)"
     ],
     "language": "python",
     "metadata": {},
     "outputs": [],
     "prompt_number": 3
    },
    {
     "cell_type": "code",
     "collapsed": false,
     "input": [
      "import pandas as pd\n",
      "\n",
      "pop_size = 20\n",
      "\n",
      "traits = list(range(num_traits))\n",
      "traits.append('genus')\n",
      "data = pd.DataFrame(columns=traits)\n",
      "traits = list(range(num_traits))\n",
      "for species in t.leaf_nodes():\n",
      "    node = node_name(species)\n",
      "    df = pd.DataFrame(np.random.multivariate_normal(data_params[node][0], data_params[node][1], pop_size))\n",
      "    df['genus'] = node\n",
      "    data = data.append(df)\n",
      "data.to_csv(\"../dados/random_data.csv\", index_label=False)\n",
      "\n",
      "data = pd.read_csv(\"../dados/random_data.csv\")"
     ],
     "language": "python",
     "metadata": {},
     "outputs": [],
     "prompt_number": 4
    },
    {
     "cell_type": "code",
     "collapsed": false,
     "input": [
      "data.head()"
     ],
     "language": "python",
     "metadata": {},
     "outputs": [
      {
       "html": [
        "<div style=\"max-height:1000px;max-width:1500px;overflow:auto;\">\n",
        "<table border=\"1\" class=\"dataframe\">\n",
        "  <thead>\n",
        "    <tr style=\"text-align: right;\">\n",
        "      <th></th>\n",
        "      <th>0</th>\n",
        "      <th>1</th>\n",
        "      <th>2</th>\n",
        "      <th>3</th>\n",
        "      <th>genus</th>\n",
        "    </tr>\n",
        "  </thead>\n",
        "  <tbody>\n",
        "    <tr>\n",
        "      <th>0</th>\n",
        "      <td> 5.178992</td>\n",
        "      <td>  4.373280</td>\n",
        "      <td> -3.054990</td>\n",
        "      <td>-14.334765</td>\n",
        "      <td> T1</td>\n",
        "    </tr>\n",
        "    <tr>\n",
        "      <th>1</th>\n",
        "      <td> 6.423005</td>\n",
        "      <td>  6.644260</td>\n",
        "      <td>-12.145747</td>\n",
        "      <td>-17.042676</td>\n",
        "      <td> T1</td>\n",
        "    </tr>\n",
        "    <tr>\n",
        "      <th>2</th>\n",
        "      <td> 5.448291</td>\n",
        "      <td>  4.204057</td>\n",
        "      <td> -8.114582</td>\n",
        "      <td>-27.148331</td>\n",
        "      <td> T1</td>\n",
        "    </tr>\n",
        "    <tr>\n",
        "      <th>3</th>\n",
        "      <td> 3.456425</td>\n",
        "      <td> 17.510272</td>\n",
        "      <td>-29.998542</td>\n",
        "      <td>-27.349641</td>\n",
        "      <td> T1</td>\n",
        "    </tr>\n",
        "    <tr>\n",
        "      <th>4</th>\n",
        "      <td> 5.892104</td>\n",
        "      <td>  2.795170</td>\n",
        "      <td>  5.366487</td>\n",
        "      <td>  1.059936</td>\n",
        "      <td> T1</td>\n",
        "    </tr>\n",
        "  </tbody>\n",
        "</table>\n",
        "</div>"
       ],
       "metadata": {},
       "output_type": "pyout",
       "prompt_number": 5,
       "text": [
        "          0          1          2          3 genus\n",
        "0  5.178992   4.373280  -3.054990 -14.334765    T1\n",
        "1  6.423005   6.644260 -12.145747 -17.042676    T1\n",
        "2  5.448291   4.204057  -8.114582 -27.148331    T1\n",
        "3  3.456425  17.510272 -29.998542 -27.349641    T1\n",
        "4  5.892104   2.795170   5.366487   1.059936    T1"
       ]
      }
     ],
     "prompt_number": 5
    },
    {
     "cell_type": "code",
     "collapsed": false,
     "input": [
      "import pymc as pm\n",
      "import model_validation as model"
     ],
     "language": "python",
     "metadata": {},
     "outputs": [
      {
       "output_type": "stream",
       "stream": "stdout",
       "text": [
        "Couldn't import dot_parser, loading of dot files will not be possible.\n"
       ]
      }
     ],
     "prompt_number": 6
    },
    {
     "cell_type": "code",
     "collapsed": false,
     "input": [
      "reload(model)"
     ],
     "language": "python",
     "metadata": {},
     "outputs": [
      {
       "metadata": {},
       "output_type": "pyout",
       "prompt_number": 7,
       "text": [
        "<module 'model_validation' from '/home/diogro/projects/bayesian-cov-estimation/models/model_validation.pyc'>"
       ]
      }
     ],
     "prompt_number": 7
    },
    {
     "cell_type": "code",
     "collapsed": false,
     "input": [
      "M = pm.MCMC(model, db='pickle', dbname='../pickles/model.validation.pickle')"
     ],
     "language": "python",
     "metadata": {},
     "outputs": [],
     "prompt_number": 8
    },
    {
     "cell_type": "code",
     "collapsed": false,
     "input": [
      "M.sample(iter=1000, burn=900, thin=1)\n",
      "M.db.close()\n",
      "#db = pm.database.pickle.load('../pickles/model.validation.pickle')\n",
      "#M = pm.MCMC(model, db=db)"
     ],
     "language": "python",
     "metadata": {},
     "outputs": [
      {
       "output_type": "stream",
       "stream": "stdout",
       "text": [
        "\r",
        " [------           16%                  ] 168 of 1000 complete in 0.5 sec"
       ]
      },
      {
       "output_type": "stream",
       "stream": "stdout",
       "text": [
        "\r",
        " [------------     33%                  ] 339 of 1000 complete in 1.0 sec"
       ]
      },
      {
       "output_type": "stream",
       "stream": "stdout",
       "text": [
        "\r",
        " [-----------------50%                  ] 509 of 1000 complete in 1.5 sec"
       ]
      },
      {
       "output_type": "stream",
       "stream": "stdout",
       "text": [
        "\r",
        " [-----------------67%-----             ] 679 of 1000 complete in 2.0 sec"
       ]
      },
      {
       "output_type": "stream",
       "stream": "stdout",
       "text": [
        "\r",
        " [-----------------85%------------      ] 853 of 1000 complete in 2.5 sec"
       ]
      },
      {
       "output_type": "stream",
       "stream": "stdout",
       "text": [
        "\r",
        " [-----------------100%-----------------] 1000 of 1000 complete in 2.9 sec"
       ]
      }
     ],
     "prompt_number": 9
    },
    {
     "cell_type": "code",
     "collapsed": false,
     "input": [
      "pm.graph.graph(M,format='png',path='',name='random-model',prog='dot')"
     ],
     "language": "python",
     "metadata": {},
     "outputs": [
      {
       "metadata": {},
       "output_type": "pyout",
       "prompt_number": 10,
       "text": [
        "<pydot.Dot at 0x48fe350>"
       ]
      }
     ],
     "prompt_number": 10
    },
    {
     "cell_type": "code",
     "collapsed": false,
     "input": [
      "import matrix_functions as mf\n",
      "\n",
      "bayes_means = {}\n",
      "bayes_matrices = {}\n",
      "\n",
      "for n in model.t.nodes():\n",
      "    name = model.node_name(n)\n",
      "    bayes_means[name] = M.theta[name].trace[:].mean(0)\n",
      "    bayes_matrices[name] = M.sigma[name].trace[:].mean(0)\n",
      "\n",
      "for i, n in enumerate(model.t.nodes()):\n",
      "    name = model.node_name(n)\n",
      "    figure(i)\n",
      "    #print str(name), str(n), monkey_model.node_sample_size[str(n)]\n",
      "    \n",
      "    #print name, \"RS = \", mf.random_skewers(data_params[name][1], bayes_matrices[name])   \n",
      "    print data_params[name][1]\n",
      "    \n",
      "    true_val, true_vec = np.linalg.eig(data_params[name][1])\n",
      "    bayes_val, bayes_vec = np.linalg.eig(bayes_matrices[name])     \n",
      "                          \n",
      "    true_val.sort()\n",
      "    bayes_val.sort()\n",
      "    \n",
      "    plot(true_val, label='True')\n",
      "    plot(bayes_val, label='Bayes')\n",
      "    legend()\n",
      "    title(name)\n",
      "    print data_params[name][0] - bayes_means[name]"
     ],
     "language": "python",
     "metadata": {},
     "outputs": [],
     "prompt_number": "*"
    },
    {
     "cell_type": "code",
     "collapsed": false,
     "input": [
      "traits = list(range(num_traits))\n",
      "traits.append('otu')\n",
      "traits.append('stat')\n",
      "traits.append('estimator')\n",
      "results = pd.DataFrame(columns=traits)\n",
      "traits = list(range(num_traits))\n",
      "for species in t.nodes():\n",
      "    node = node_name(species)\n",
      "    df = pd.DataFrame(np.array([data_params[node][0], \n",
      "                                np.sqrt(np.diag(data_params[node][1]))]))\n",
      "    df['otu'] = node\n",
      "    df['estimator'] = 'true'\n",
      "    df['stat'] = ['mean', 'std']\n",
      "    results = results.append(df)\n",
      "    \n",
      "    df = pd.DataFrame(np.array([M.theta[node].trace[:].mean(0), \n",
      "                                M.theta[node].trace[:].std(0),\n",
      "                                np.sqrt(np.diag(M.sigma[node].trace[:].mean(0))),\n",
      "                                np.sqrt(np.diag(M.sigma[node].trace[:].std(0)))]))\n",
      "    df['otu'] = node\n",
      "    df['estimator'] = 'bayes'\n",
      "    df['stat'] = ['mean', 'std_mean', 'std', 'std_std']\n",
      "    results = results.append(df)\n",
      "    \n",
      "    if species.is_leaf():\n",
      "        df = pd.DataFrame(np.array([data.ix[data['genus'] == node].mean(0), \n",
      "                                data.ix[data['genus'] == node].std(0)]))\n",
      "        df['otu'] = node\n",
      "        df['estimator'] = 'ml'\n",
      "        df['stat'] = ['mean', 'std']\n",
      "        results = results.append(df)\n",
      "results.to_csv('../Rscripts/validation.csv', header = True)"
     ],
     "language": "python",
     "metadata": {},
     "outputs": [],
     "prompt_number": "*"
    },
    {
     "cell_type": "code",
     "collapsed": false,
     "input": [
      "%load_ext rmagic"
     ],
     "language": "python",
     "metadata": {},
     "outputs": [],
     "prompt_number": 13
    },
    {
     "cell_type": "code",
     "collapsed": false,
     "input": [
      "%Rpush results"
     ],
     "language": "python",
     "metadata": {},
     "outputs": [],
     "prompt_number": 15
    },
    {
     "cell_type": "code",
     "collapsed": false,
     "input": [
      "%%R\n",
      "library('plyr')\n",
      "library('phytools')\n",
      "num_traits = 4\n",
      "tree = read.newick('../trees/random_tree.nw')\n",
      "tree_names = c(tree$tip.label, tree$node.label)\n",
      "ml_data = subset(results, estimator == 'ml' & stat == 'mean')\n",
      "ml_data$otu = as.character(ml_data$otu)\n",
      "traits = list()\n",
      "for(i in 1:num_traits){\n",
      "    mean_list = daply(ml_data, 'otu', function(x) x[[i]])\n",
      "    anc = fastAnc(tree, mean_list, CI = T)\n",
      "    names(anc$ace) = tree_names[as.numeric(names(anc$ace))]\n",
      "    rownames(anc$CI95) = names(anc$ace)\n",
      "    traits[[i]] = anc\n",
      "}\n",
      "names(traits) = paste('X', 0:(num_traits-1), sep = '') \n",
      "results_ml = ldply(traits, function(x) data.frame(mean = x[[1]],\n",
      "                                              CIM = x[[2]][,1],\n",
      "                                              CIP = x[[2]][,2],\n",
      "                                              otu = names(x[[1]])))\n",
      "write.csv(results_ml, '../dados/ml_anc.csv')"
     ],
     "language": "python",
     "metadata": {},
     "outputs": [],
     "prompt_number": "*"
    },
    {
     "cell_type": "code",
     "collapsed": false,
     "input": [
      "x = pd.read_csv('../dados/ml_anc.csv', index_col=0)\n",
      "x['otu'] = x['otu'].astype(str)"
     ],
     "language": "python",
     "metadata": {},
     "outputs": [],
     "prompt_number": "*"
    },
    {
     "cell_type": "code",
     "collapsed": false,
     "input": [
      "def mahalanobis_ml(node):\n",
      "    estimate = np.array(x.ix[x['otu'] == node, 'mean'])\n",
      "    true = data_params[node][0]\n",
      "    return mahalanobis(estimate, true, node)\n",
      "\n",
      "def mahalanobis_bayes(node):\n",
      "    estimate = np.array(M.theta[node].trace[:].mean(0))\n",
      "    true = data_params[node][0]\n",
      "    return mahalanobis(estimate, true, node)\n",
      "\n",
      "def mahalanobis(x, y, node):\n",
      "    cov = data_params[node][1]\n",
      "    cov = np.eye(num_traits)\n",
      "    return np.sqrt(np.dot(x - y, solve(cov, x - y)))"
     ],
     "language": "python",
     "metadata": {},
     "outputs": [],
     "prompt_number": "*"
    },
    {
     "cell_type": "code",
     "collapsed": false,
     "input": [
      "for n in t.internal_nodes():\n",
      "    node = model.node_name(n)\n",
      "    print node\n",
      "    print 'ml = ', mahalanobis_ml(node)\n",
      "    print 'bs = ', mahalanobis_bayes(node), '\\n'"
     ],
     "language": "python",
     "metadata": {},
     "outputs": [],
     "prompt_number": "*"
    },
    {
     "cell_type": "code",
     "collapsed": false,
     "input": [],
     "language": "python",
     "metadata": {},
     "outputs": []
    }
   ],
   "metadata": {}
  }
 ]
}