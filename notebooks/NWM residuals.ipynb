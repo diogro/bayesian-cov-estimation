{
 "metadata": {
  "name": ""
 },
 "nbformat": 3,
 "nbformat_minor": 0,
 "worksheets": [
  {
   "cells": [
    {
     "cell_type": "code",
     "collapsed": false,
     "input": [
      "import os, sys, inspect\n",
      "# realpath() with make your script run, even if you symlink it :)\n",
      "cmd_folder = os.path.realpath(os.path.abspath(os.path.split(inspect.getfile( inspect.currentframe() ))[0]))\n",
      "if cmd_folder not in sys.path:\n",
      "    sys.path.insert(0, cmd_folder)\n",
      "\n",
      "# use this if you want to include modules from a subforder\n",
      "cmd_subfolder = os.path.realpath(os.path.abspath(os.path.join(os.path.split(inspect.getfile( inspect.currentframe() ))[0],\"../models\")))\n",
      "if cmd_subfolder not in sys.path:\n",
      "    sys.path.insert(0, cmd_subfolder)\n",
      "\n",
      "cmd_subfolder = os.path.realpath(os.path.abspath(os.path.join(os.path.split(inspect.getfile( inspect.currentframe() ))[0],\"../utils\")))\n",
      "if cmd_subfolder not in sys.path:\n",
      "    sys.path.insert(0, cmd_subfolder)"
     ],
     "language": "python",
     "metadata": {},
     "outputs": [],
     "prompt_number": 22
    },
    {
     "cell_type": "code",
     "collapsed": false,
     "input": [
      "import pymc as pm\n",
      "import numpy as np\n",
      "import nwm_res_model as model"
     ],
     "language": "python",
     "metadata": {},
     "outputs": [],
     "prompt_number": 23
    },
    {
     "cell_type": "code",
     "collapsed": false,
     "input": [
      "reload (model)"
     ],
     "language": "python",
     "metadata": {},
     "outputs": [
      {
       "metadata": {},
       "output_type": "pyout",
       "prompt_number": 24,
       "text": [
        "<module 'nwm_res_model' from '/home/diogro/projects/bayesian-cov-estimation/models/nwm_res_model.py'>"
       ]
      }
     ],
     "prompt_number": 24
    },
    {
     "cell_type": "code",
     "collapsed": false,
     "input": [
      "M = pm.MCMC(model)"
     ],
     "language": "python",
     "metadata": {},
     "outputs": [],
     "prompt_number": 25
    },
    {
     "cell_type": "code",
     "collapsed": false,
     "input": [
      "M.sample(iter=10000, burn=9000, thin=10)"
     ],
     "language": "python",
     "metadata": {},
     "outputs": [
      {
       "output_type": "stream",
       "stream": "stdout",
       "text": [
        "\r",
        " [                  0%                  ] 6 of 10000 complete in 0.6 sec"
       ]
      },
      {
       "output_type": "stream",
       "stream": "stdout",
       "text": [
        "\r",
        " [                  0%                  ] 11 of 10000 complete in 1.2 sec"
       ]
      },
      {
       "output_type": "stream",
       "stream": "stdout",
       "text": [
        "\r",
        " [                  0%                  ] 16 of 10000 complete in 1.8 sec"
       ]
      },
      {
       "output_type": "stream",
       "stream": "stdout",
       "text": [
        "\r",
        " [                  0%                  ] 21 of 10000 complete in 2.4 sec"
       ]
      },
      {
       "output_type": "stream",
       "stream": "stdout",
       "text": [
        "\r",
        " [                  0%                  ] 26 of 10000 complete in 3.0 sec"
       ]
      },
      {
       "output_type": "stream",
       "stream": "stdout",
       "text": [
        "\r",
        " [                  0%                  ] 31 of 10000 complete in 3.5 sec"
       ]
      },
      {
       "output_type": "stream",
       "stream": "stdout",
       "text": [
        "\r",
        " [                  0%                  ] 36 of 10000 complete in 4.1 sec"
       ]
      },
      {
       "output_type": "stream",
       "stream": "stdout",
       "text": [
        "\r",
        " [                  0%                  ] 41 of 10000 complete in 4.6 sec"
       ]
      },
      {
       "output_type": "stream",
       "stream": "stdout",
       "text": [
        "\r",
        " [                  0%                  ] 46 of 10000 complete in 5.2 sec"
       ]
      },
      {
       "output_type": "stream",
       "stream": "stdout",
       "text": [
        "\r",
        " [                  0%                  ] 51 of 10000 complete in 5.8 sec"
       ]
      },
      {
       "output_type": "stream",
       "stream": "stdout",
       "text": [
        "\r",
        " [                  0%                  ] 56 of 10000 complete in 6.4 sec"
       ]
      },
      {
       "output_type": "stream",
       "stream": "stdout",
       "text": [
        "\r",
        " [                  0%                  ] 61 of 10000 complete in 6.9 sec"
       ]
      },
      {
       "output_type": "stream",
       "stream": "stdout",
       "text": [
        "\r",
        " [                  0%                  ] 66 of 10000 complete in 7.5 sec"
       ]
      },
      {
       "output_type": "stream",
       "stream": "stdout",
       "text": [
        "\r",
        " [                  0%                  ] 71 of 10000 complete in 8.0 sec"
       ]
      },
      {
       "output_type": "stream",
       "stream": "stdout",
       "text": [
        "\r",
        " [                  0%                  ] 76 of 10000 complete in 8.6 sec"
       ]
      },
      {
       "output_type": "stream",
       "stream": "stdout",
       "text": [
        "\r",
        " [                  0%                  ] 81 of 10000 complete in 9.2 sec"
       ]
      },
      {
       "output_type": "stream",
       "stream": "stdout",
       "text": [
        "\r",
        " [                  0%                  ] 86 of 10000 complete in 9.7 sec"
       ]
      },
      {
       "output_type": "stream",
       "stream": "stdout",
       "text": [
        "\r",
        " [                  0%                  ] 91 of 10000 complete in 10.3 sec"
       ]
      },
      {
       "output_type": "stream",
       "stream": "stdout",
       "text": [
        "\r",
        " [                  0%                  ] 96 of 10000 complete in 10.9 sec"
       ]
      },
      {
       "output_type": "stream",
       "stream": "stdout",
       "text": [
        "\r",
        " [                  1%                  ] 101 of 10000 complete in 11.4 sec"
       ]
      },
      {
       "output_type": "stream",
       "stream": "stdout",
       "text": [
        "\r",
        " [                  1%                  ] 106 of 10000 complete in 12.0 sec"
       ]
      },
      {
       "output_type": "stream",
       "stream": "stdout",
       "text": [
        "\r",
        " [                  1%                  ] 111 of 10000 complete in 12.6 sec"
       ]
      },
      {
       "output_type": "stream",
       "stream": "stdout",
       "text": [
        "\r",
        " [                  1%                  ] 116 of 10000 complete in 13.1 sec"
       ]
      },
      {
       "output_type": "stream",
       "stream": "stdout",
       "text": [
        "\r",
        " [                  1%                  ] 121 of 10000 complete in 13.7 sec"
       ]
      },
      {
       "output_type": "stream",
       "stream": "stdout",
       "text": [
        "\r",
        " [                  1%                  ] 126 of 10000 complete in 14.3 sec"
       ]
      },
      {
       "output_type": "stream",
       "stream": "stdout",
       "text": [
        "\r",
        " [                  1%                  ] 131 of 10000 complete in 14.9 sec"
       ]
      },
      {
       "output_type": "stream",
       "stream": "stdout",
       "text": [
        "\r",
        " [                  1%                  ] 136 of 10000 complete in 15.4 sec"
       ]
      },
      {
       "output_type": "stream",
       "stream": "stdout",
       "text": [
        "\r",
        " [                  1%                  ] 141 of 10000 complete in 16.0 sec"
       ]
      },
      {
       "output_type": "stream",
       "stream": "stdout",
       "text": [
        "\r",
        " [                  1%                  ] 146 of 10000 complete in 16.6 sec"
       ]
      },
      {
       "output_type": "stream",
       "stream": "stdout",
       "text": [
        "\r",
        " [                  1%                  ] 151 of 10000 complete in 17.1 sec"
       ]
      },
      {
       "output_type": "stream",
       "stream": "stdout",
       "text": [
        "\r",
        " [                  1%                  ] 156 of 10000 complete in 17.7 sec"
       ]
      },
      {
       "output_type": "stream",
       "stream": "stdout",
       "text": [
        "\r",
        " [                  1%                  ] 161 of 10000 complete in 18.3 sec"
       ]
      },
      {
       "output_type": "stream",
       "stream": "stdout",
       "text": [
        "\r",
        " [                  1%                  ] 166 of 10000 complete in 18.8 sec"
       ]
      },
      {
       "output_type": "stream",
       "stream": "stdout",
       "text": [
        "\r",
        " [                  1%                  ] 171 of 10000 complete in 19.4 sec"
       ]
      },
      {
       "output_type": "stream",
       "stream": "stdout",
       "text": [
        "\r",
        " [                  1%                  ] 176 of 10000 complete in 20.0 sec"
       ]
      },
      {
       "output_type": "stream",
       "stream": "stdout",
       "text": [
        "\r",
        " [                  1%                  ] 181 of 10000 complete in 20.5 sec"
       ]
      },
      {
       "output_type": "stream",
       "stream": "stdout",
       "text": [
        "\r",
        " [                  1%                  ] 186 of 10000 complete in 21.1 sec"
       ]
      },
      {
       "output_type": "stream",
       "stream": "stdout",
       "text": [
        "\r",
        " [                  1%                  ] 191 of 10000 complete in 21.7 sec"
       ]
      },
      {
       "output_type": "stream",
       "stream": "stdout",
       "text": [
        "\r",
        " [                  1%                  ] 196 of 10000 complete in 22.2 sec"
       ]
      },
      {
       "output_type": "stream",
       "stream": "stdout",
       "text": [
        "\r",
        " [                  2%                  ] 201 of 10000 complete in 22.8 sec"
       ]
      },
      {
       "output_type": "stream",
       "stream": "stdout",
       "text": [
        "\r",
        " [                  2%                  ] 206 of 10000 complete in 23.3 sec"
       ]
      },
      {
       "output_type": "stream",
       "stream": "stdout",
       "text": [
        "\r",
        " [                  2%                  ] 211 of 10000 complete in 23.9 sec"
       ]
      },
      {
       "output_type": "stream",
       "stream": "stdout",
       "text": [
        "\r",
        " [                  2%                  ] 216 of 10000 complete in 24.5 sec"
       ]
      },
      {
       "output_type": "stream",
       "stream": "stdout",
       "text": [
        "\r",
        " [                  2%                  ] 221 of 10000 complete in 25.0 sec"
       ]
      },
      {
       "output_type": "stream",
       "stream": "stdout",
       "text": [
        "\r",
        " [                  2%                  ] 226 of 10000 complete in 25.6 sec"
       ]
      },
      {
       "output_type": "stream",
       "stream": "stdout",
       "text": [
        "\r",
        " [                  2%                  ] 231 of 10000 complete in 26.1 sec"
       ]
      },
      {
       "output_type": "stream",
       "stream": "stdout",
       "text": [
        "\r",
        " [                  2%                  ] 236 of 10000 complete in 26.7 sec"
       ]
      },
      {
       "output_type": "stream",
       "stream": "stdout",
       "text": [
        "\r",
        " [                  2%                  ] 241 of 10000 complete in 27.3 sec"
       ]
      },
      {
       "output_type": "stream",
       "stream": "stdout",
       "text": [
        "\r",
        " [                  2%                  ] 246 of 10000 complete in 27.8 sec"
       ]
      },
      {
       "output_type": "stream",
       "stream": "stdout",
       "text": [
        "\r",
        " [                  2%                  ] 251 of 10000 complete in 28.4 sec"
       ]
      },
      {
       "output_type": "stream",
       "stream": "stdout",
       "text": [
        "\r",
        " [                  2%                  ] 256 of 10000 complete in 28.9 sec"
       ]
      },
      {
       "output_type": "stream",
       "stream": "stdout",
       "text": [
        "\r",
        " [                  2%                  ] 261 of 10000 complete in 29.5 sec"
       ]
      },
      {
       "output_type": "stream",
       "stream": "stdout",
       "text": [
        "\r",
        " [-                 2%                  ] 266 of 10000 complete in 30.0 sec"
       ]
      },
      {
       "output_type": "stream",
       "stream": "stdout",
       "text": [
        "\r",
        " [-                 2%                  ] 271 of 10000 complete in 30.6 sec"
       ]
      },
      {
       "output_type": "stream",
       "stream": "stdout",
       "text": [
        "\r",
        " [-                 2%                  ] 276 of 10000 complete in 31.2 sec"
       ]
      },
      {
       "output_type": "stream",
       "stream": "stdout",
       "text": [
        "\r",
        " [-                 2%                  ] 281 of 10000 complete in 31.7 sec"
       ]
      },
      {
       "output_type": "stream",
       "stream": "stdout",
       "text": [
        "\r",
        " [-                 2%                  ] 286 of 10000 complete in 32.3 sec"
       ]
      },
      {
       "output_type": "stream",
       "stream": "stdout",
       "text": [
        "\r",
        " [-                 2%                  ] 291 of 10000 complete in 32.8 sec"
       ]
      },
      {
       "output_type": "stream",
       "stream": "stdout",
       "text": [
        "\r",
        " [-                 2%                  ] 296 of 10000 complete in 33.4 sec"
       ]
      },
      {
       "output_type": "stream",
       "stream": "stdout",
       "text": [
        "\r",
        " [-                 3%                  ] 301 of 10000 complete in 33.9 sec"
       ]
      },
      {
       "output_type": "stream",
       "stream": "stdout",
       "text": [
        "\r",
        " [-                 3%                  ] 306 of 10000 complete in 34.5 sec"
       ]
      },
      {
       "output_type": "stream",
       "stream": "stdout",
       "text": [
        "\r",
        " [-                 3%                  ] 311 of 10000 complete in 35.1 sec"
       ]
      },
      {
       "output_type": "stream",
       "stream": "stdout",
       "text": [
        "\r",
        " [-                 3%                  ] 316 of 10000 complete in 35.6 sec"
       ]
      },
      {
       "output_type": "stream",
       "stream": "stdout",
       "text": [
        "\r",
        " [-                 3%                  ] 321 of 10000 complete in 36.2 sec"
       ]
      },
      {
       "output_type": "stream",
       "stream": "stdout",
       "text": [
        "\r",
        " [-                 3%                  ] 326 of 10000 complete in 36.7 sec"
       ]
      },
      {
       "output_type": "stream",
       "stream": "stdout",
       "text": [
        "\r",
        " [-                 3%                  ] 331 of 10000 complete in 37.3 sec"
       ]
      },
      {
       "output_type": "stream",
       "stream": "stdout",
       "text": [
        "\r",
        " [-                 3%                  ] 336 of 10000 complete in 37.9 sec"
       ]
      },
      {
       "output_type": "stream",
       "stream": "stdout",
       "text": [
        "\r",
        " [-                 3%                  ] 341 of 10000 complete in 38.4 sec"
       ]
      },
      {
       "output_type": "stream",
       "stream": "stdout",
       "text": [
        "\r",
        " [-                 3%                  ] 346 of 10000 complete in 39.0 sec"
       ]
      },
      {
       "output_type": "stream",
       "stream": "stdout",
       "text": [
        "\r",
        " [-                 3%                  ] 351 of 10000 complete in 39.5 sec"
       ]
      },
      {
       "output_type": "stream",
       "stream": "stdout",
       "text": [
        "\r",
        " [-                 3%                  ] 356 of 10000 complete in 40.1 sec"
       ]
      },
      {
       "output_type": "stream",
       "stream": "stdout",
       "text": [
        "\r",
        " [-                 3%                  ] 361 of 10000 complete in 40.6 sec"
       ]
      },
      {
       "output_type": "stream",
       "stream": "stdout",
       "text": [
        "\r",
        " [-                 3%                  ] 366 of 10000 complete in 41.2 sec"
       ]
      },
      {
       "output_type": "stream",
       "stream": "stdout",
       "text": [
        "\r",
        " [-                 3%                  ] 371 of 10000 complete in 41.8 sec"
       ]
      },
      {
       "output_type": "stream",
       "stream": "stdout",
       "text": [
        "\r",
        " [-                 3%                  ] 376 of 10000 complete in 42.3 sec"
       ]
      },
      {
       "output_type": "stream",
       "stream": "stdout",
       "text": [
        "\r",
        " [-                 3%                  ] 381 of 10000 complete in 42.9 sec"
       ]
      },
      {
       "output_type": "stream",
       "stream": "stdout",
       "text": [
        "\r",
        " [-                 3%                  ] 386 of 10000 complete in 43.4 sec"
       ]
      },
      {
       "output_type": "stream",
       "stream": "stdout",
       "text": [
        "\r",
        " [-                 3%                  ] 391 of 10000 complete in 44.0 sec"
       ]
      },
      {
       "output_type": "stream",
       "stream": "stdout",
       "text": [
        "\r",
        " [-                 3%                  ] 396 of 10000 complete in 44.5 sec"
       ]
      },
      {
       "output_type": "stream",
       "stream": "stdout",
       "text": [
        "\r",
        " [-                 4%                  ] 401 of 10000 complete in 45.1 sec"
       ]
      },
      {
       "output_type": "stream",
       "stream": "stdout",
       "text": [
        "\r",
        " [-                 4%                  ] 406 of 10000 complete in 45.6 sec"
       ]
      },
      {
       "output_type": "stream",
       "stream": "stdout",
       "text": [
        "\r",
        " [-                 4%                  ] 411 of 10000 complete in 46.2 sec"
       ]
      },
      {
       "output_type": "stream",
       "stream": "stdout",
       "text": [
        "\r",
        " [-                 4%                  ] 416 of 10000 complete in 46.8 sec"
       ]
      },
      {
       "output_type": "stream",
       "stream": "stdout",
       "text": [
        "\r",
        " [-                 4%                  ] 421 of 10000 complete in 47.3 sec"
       ]
      },
      {
       "output_type": "stream",
       "stream": "stdout",
       "text": [
        "\r",
        " [-                 4%                  ] 426 of 10000 complete in 47.9 sec"
       ]
      },
      {
       "output_type": "stream",
       "stream": "stdout",
       "text": [
        "\r",
        " [-                 4%                  ] 431 of 10000 complete in 48.4 sec"
       ]
      },
      {
       "output_type": "stream",
       "stream": "stdout",
       "text": [
        "\r",
        " [-                 4%                  ] 436 of 10000 complete in 49.0 sec"
       ]
      },
      {
       "output_type": "stream",
       "stream": "stdout",
       "text": [
        "\r",
        " [-                 4%                  ] 441 of 10000 complete in 49.6 sec"
       ]
      },
      {
       "output_type": "stream",
       "stream": "stdout",
       "text": [
        "\r",
        " [-                 4%                  ] 446 of 10000 complete in 50.1 sec"
       ]
      },
      {
       "output_type": "stream",
       "stream": "stdout",
       "text": [
        "\r",
        " [-                 4%                  ] 451 of 10000 complete in 50.7 sec"
       ]
      },
      {
       "output_type": "stream",
       "stream": "stdout",
       "text": [
        "\r",
        " [-                 4%                  ] 456 of 10000 complete in 51.2 sec"
       ]
      }
     ],
     "prompt_number": "*"
    },
    {
     "cell_type": "code",
     "collapsed": false,
     "input": [
      "pm.graph.graph(M,format='png',path='',name='nwm',prog='dot')"
     ],
     "language": "python",
     "metadata": {},
     "outputs": [
      {
       "metadata": {},
       "output_type": "pyout",
       "prompt_number": 10,
       "text": [
        "<pydot.Dot at 0x8419e50>"
       ]
      }
     ],
     "prompt_number": 10
    },
    {
     "cell_type": "code",
     "collapsed": false,
     "input": [
      "import pandas as pd\n",
      "\n",
      "pop_size = 500\n",
      "\n",
      "traits = list(model.data.columns[0:39])\n",
      "traits.append('pop')\n",
      "traits.append('genus')\n",
      "df_total = pd.DataFrame(columns=traits)\n",
      "traits = list(model.data.columns[0:39])\n",
      "\n",
      "for species in model.t.leaf_nodes():\n",
      "    species_id = model.node_name(species)\n",
      "\n",
      "    thetas = M.get_node('theta_{}'.format(species_id)).trace()\n",
      "    sigmas = M.get_node('sigma_{}'.format(species_id)).trace()\n",
      "    \n",
      "    params = zip(thetas, sigmas)   \n",
      "    for pop, p in enumerate(params):\n",
      "        df = pd.DataFrame(np.array(np.random.multivariate_normal(p[0], p[1], pop_size)))\n",
      "        df.columns = traits\n",
      "        df['pop'] = pop\n",
      "        df['genus'] = species_id\n",
      "        df_total = df_total.append(df)"
     ],
     "language": "python",
     "metadata": {},
     "outputs": [],
     "prompt_number": 12
    },
    {
     "cell_type": "code",
     "collapsed": false,
     "input": [
      "%load_ext rmagic"
     ],
     "language": "python",
     "metadata": {},
     "outputs": [
      {
       "output_type": "stream",
       "stream": "stdout",
       "text": [
        "The rmagic extension is already loaded. To reload it, use:\n",
        "  %reload_ext rmagic\n"
       ]
      }
     ],
     "prompt_number": 13
    },
    {
     "cell_type": "code",
     "collapsed": false,
     "input": [
      "%Rpush df_total\n",
      "%R save(df_total, file= \"../Rscripts/nwm.res.sim.Rdata\")"
     ],
     "language": "python",
     "metadata": {},
     "outputs": [],
     "prompt_number": 14
    },
    {
     "cell_type": "code",
     "collapsed": false,
     "input": [
      "%%R\n",
      "load(\"~/Dropbox/labbio/cov_bayes_data/residuos.nwm.rdata\")\n",
      "library(plyr)\n",
      "library(reshape2)\n",
      "library(ggplot2)\n",
      "\n",
      "m.medias = melt(medias.NWM)\n",
      "names(m.medias) <- c(\"genus\", \"variable\", \"value\")\n",
      "genus = unique(m.medias$genus)\n",
      "\n",
      "maxes <- ddply(mean.center, 'genus', function(x) sapply(x[,1:39], max))\n",
      "maxes$stat = 'max'\n",
      "mins <- ddply(mean.center, 'genus', function(x) sapply(x[,1:39], min))\n",
      "mins$stat = 'min'\n",
      "means <- ddply(mean.center, 'genus', function(x) colMeans(x[,1:39]))\n",
      "means$stat = 'mean'\n",
      "stats = rbind(maxes, mins, means)\n",
      "m.stats = melt(stats, c('genus', 'stat'))\n",
      "\n",
      "df_mean = ddply(df_total, c('pop', 'genus'), function(x) colMeans(x[,1:39]))\n",
      "df_mean$pop  <- NULL\n",
      "df_mean$stat = 'mean'\n",
      "df_min = ddply(df_total, c('pop', 'genus'), function(x) sapply(x[,1:39], min))\n",
      "df_min$pop  <- NULL\n",
      "df_min$stat = 'min'\n",
      "df_max = ddply(df_total, c('pop', 'genus'), function(x) sapply(x[,1:39], max))\n",
      "df_max$pop  <- NULL\n",
      "df_max$stat = 'max'\n",
      "sims = rbind(df_max, df_min, df_mean)\n",
      "m.sims = melt(sims, c('genus', 'stat'))\n",
      "\n",
      "boxplots = llply(genus, function(x) ggplot(m.sims[m.sims$genus == x,],\n",
      "                                           aes(variable, value, group=interaction(variable, stat), color = stat)) +\n",
      "                 geom_boxplot() +\n",
      "                 geom_point(data=m.stats[m.stats$genus == x,],\n",
      "                            aes(variable, value, group=interaction(variable, stat), color = stat)) +\n",
      "                 ggtitle(x) + theme(axis.text.x=element_text(angle=-90)), .progress = 'text')\n",
      "names(boxplots) = genus"
     ],
     "language": "python",
     "metadata": {},
     "outputs": [
      {
       "metadata": {},
       "output_type": "display_data",
       "text": [
        "\r",
        "  |                                                                            \r",
        "  |                                                                      |   0%\r",
        "  |                                                                            \r",
        "  |====                                                                  |   6%\r",
        "  |                                                                            \r",
        "  |=========                                                             |  12%\r",
        "  |                                                                            \r",
        "  |=============                                                         |  19%\r",
        "  |                                                                            \r",
        "  |==================                                                    |  25%\r",
        "  |                                                                            \r",
        "  |======================                                                |  31%\r",
        "  |                                                                            \r",
        "  |==========================                                            |  38%\r",
        "  |                                                                            \r",
        "  |===============================                                       |  44%\r",
        "  |                                                                            \r",
        "  |===================================                                   |  50%\r",
        "  |                                                                            \r",
        "  |=======================================                               |  56%\r",
        "  |                                                                            \r",
        "  |============================================                          |  62%\r",
        "  |                                                                            \r",
        "  |================================================                      |  69%\r",
        "  |                                                                            \r",
        "  |====================================================                  |  75%\r",
        "  |                                                                            \r",
        "  |=========================================================             |  81%\r",
        "  |                                                                            \r",
        "  |=============================================================         |  88%\r",
        "  |                                                                            \r",
        "  |==================================================================    |  94%\r",
        "  |                                                                            \r",
        "  |======================================================================| 100%\n"
       ]
      }
     ],
     "prompt_number": 16
    },
    {
     "cell_type": "code",
     "collapsed": false,
     "input": [
      "%R alply(1:16, 1, function(x) ggsave(paste('posterior_check-', names(boxplots)[[x]], '.png', sep = ''), boxplots[[x]], width = 20,heigh= 10))"
     ],
     "language": "python",
     "metadata": {},
     "outputs": [
      {
       "metadata": {},
       "output_type": "pyout",
       "prompt_number": 19,
       "text": [
        "array([rpy2.rinterface.NULL, rpy2.rinterface.NULL, rpy2.rinterface.NULL,\n",
        "       rpy2.rinterface.NULL, rpy2.rinterface.NULL, rpy2.rinterface.NULL,\n",
        "       rpy2.rinterface.NULL, rpy2.rinterface.NULL, rpy2.rinterface.NULL,\n",
        "       rpy2.rinterface.NULL, rpy2.rinterface.NULL, rpy2.rinterface.NULL,\n",
        "       rpy2.rinterface.NULL, rpy2.rinterface.NULL, rpy2.rinterface.NULL,\n",
        "       rpy2.rinterface.NULL], dtype=object)"
       ]
      }
     ],
     "prompt_number": 19
    },
    {
     "cell_type": "code",
     "collapsed": false,
     "input": [
      "def get_taxon_leaf_names(taxon, names):\n",
      "    child = [str(c.taxon) for c in taxon.child_nodes()]\n",
      "    if not child:\n",
      "        names.append(str(taxon.taxon))\n",
      "    else:\n",
      "        if('None' in child) :\n",
      "            map(lambda taxon: get_taxon_leaf_names(taxon, names), taxon.child_nodes())       \n",
      "        else:\n",
      "            for n in child:\n",
      "                names.append(n)\n",
      "    return names\n",
      "\n",
      "nwm_means = open('/home/diogro/Dropbox/labbio/cov_bayes_data/nwm.means.bayes.residuals.csv', 'w')\n",
      "trait_names = model.data.axes[1][0:39]\n",
      "trait_names = [trait for trait in trait_names]\n",
      "otu_vector = []\n",
      "mean_vector = []\n",
      "var_vector = []\n",
      "for n in model.t.nodes():\n",
      "    names = get_taxon_leaf_names(n, [])\n",
      "    s = names[0]\n",
      "    for nome in names[1:]:\n",
      "        s += '_' + nome\n",
      "    otu = [s for i in range(39)]\n",
      "    otu_vector.append(otu)\n",
      "    mean_vector.append(bayes_means[str(n)])\n",
      "    var_vector.append(bayes_var[str(n)])\n",
      "\n",
      "mean_vector = np.array(mean_vector).reshape(39*len(model.t.nodes()))\n",
      "var_vector = np.array(var_vector).reshape(39*len(model.t.nodes()))\n",
      "otu_vector = np.array(otu_vector).reshape(39*len(model.t.nodes()))\n",
      "trait_names_vector = [trait_names for i in range(len(model.t.nodes()))]\n",
      "trait_names_vector = np.array(trait_names_vector).reshape(39*len(model.t.nodes()))\n",
      "out_df = pd.DataFrame([trait_names_vector, mean_vector, var_vector, otu_vector])\n",
      "out_df.T.index = trait_names_vector\n",
      "out_df.index = ['trait', 'mean', 'var', 'otu']\n",
      "out_df.T.to_csv(nwm_means)\n",
      "    \n",
      "nwm_means.flush()"
     ],
     "language": "python",
     "metadata": {},
     "outputs": [],
     "prompt_number": 84
    },
    {
     "cell_type": "code",
     "collapsed": false,
     "input": [
      "for i, p in enumerate(model.t.leaf_nodes()):\n",
      "    print i, p"
     ],
     "language": "python",
     "metadata": {},
     "outputs": [
      {
       "output_type": "stream",
       "stream": "stdout",
       "text": [
        "0 d87731984\n",
        "1 d87732176\n",
        "2 d87843024\n",
        "3 d87843216\n",
        "4 d87844048\n",
        "5 d87844368\n",
        "6 d87844560\n",
        "7 d87844752\n",
        "8 d87844944\n",
        "9 d87729936\n",
        "10 d87729168\n",
        "11 d87729424\n",
        "12 d87845328\n",
        "13 d87845520\n",
        "14 d87845712\n",
        "15 d87845904\n"
       ]
      }
     ],
     "prompt_number": 8
    },
    {
     "cell_type": "code",
     "collapsed": false,
     "input": [],
     "language": "python",
     "metadata": {},
     "outputs": []
    }
   ],
   "metadata": {}
  }
 ]
}