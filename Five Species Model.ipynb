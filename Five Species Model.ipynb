{
 "metadata": {
  "name": "Five Species Model"
 },
 "nbformat": 3,
 "nbformat_minor": 0,
 "worksheets": [
  {
   "cells": [
    {
     "cell_type": "code",
     "collapsed": false,
     "input": [
      "import pymc as pm\n",
      "import model_test"
     ],
     "language": "python",
     "metadata": {},
     "outputs": [],
     "prompt_number": 28
    },
    {
     "cell_type": "code",
     "collapsed": false,
     "input": [
      "M = pm.MCMC(model_test)"
     ],
     "language": "python",
     "metadata": {},
     "outputs": [],
     "prompt_number": 49
    },
    {
     "cell_type": "code",
     "collapsed": false,
     "input": [
      "M.sample(iter=10000, burn=9000, thin=10)\n"
     ],
     "language": "python",
     "metadata": {},
     "outputs": [
      {
       "output_type": "stream",
       "stream": "stdout",
       "text": [
        " \r",
        "[****************100%******************]  10000 of 10000 complete"
       ]
      },
      {
       "output_type": "stream",
       "stream": "stdout",
       "text": [
        "\n"
       ]
      }
     ],
     "prompt_number": 50
    },
    {
     "cell_type": "code",
     "collapsed": false,
     "input": [
      "pop_size = 100\n",
      "pops = {}\n",
      "\n",
      "for species in model_test.data_list:\n",
      "    species_name = str(species).replace('data_', '')\n",
      "    thetas = M.get_node('theta_{}'.format(species_name)).trace()\n",
      "    sigmas = M.get_node('sigma_{}'.format(species_name)).trace()\n",
      "    \n",
      "    params = zip(thetas, sigmas)\n",
      "        \n",
      "    pops[species_name] = []\n",
      "    for p in params:\n",
      "\n",
      "        pops[species_name].append(np.random.multivariate_normal(p[0], p[1], pop_size))\n",
      "        \n",
      "    pops[species_name] = np.array(pops[species_name])"
     ],
     "language": "python",
     "metadata": {},
     "outputs": [],
     "prompt_number": 59
    },
    {
     "cell_type": "code",
     "collapsed": false,
     "input": [
      "stats = {}\n",
      "\n",
      "for species in model_test.data_list:\n",
      "    species_name = str(species).replace('data_', '')\n",
      "    stats[species_name] = {}\n",
      "    stats[species_name]['mean'] = np.array([r.mean(0) for r in pops[species_name]])\n",
      "    stats[species_name]['var'] = np.array([r.var(0) for r in pops[species_name]])\n",
      "    stats[species_name]['min'] = np.array([r.min(0) for r in pops[species_name]])\n",
      "    stats[species_name]['max'] = np.array([r.max(0) for r in pops[species_name]])"
     ],
     "language": "python",
     "metadata": {},
     "outputs": [],
     "prompt_number": 61
    },
    {
     "cell_type": "code",
     "collapsed": false,
     "input": [
      "def plot_mean_hists(species, stats):\n",
      "    pop_m = stats[species]['mean']\n",
      "\n",
      "    for ti in xrange(0, pop_m.shape[1]):\n",
      "        figure(ti)\n",
      "        hist(pop_m[:,ti])\n",
      "        orig_m = M.get_node('data_' + species).value.mean(0)[ti]\n",
      "        axvline(orig_m, color='r', linestyle='dashed', linewidth=2)    \n",
      "\n",
      "def plot_mean(species, stats):\n",
      "    pop_m = stats[species]['mean']\n",
      "\n",
      "    for ti in xrange(0, pop_m.shape[1]):\n",
      "        figure(ti)\n",
      "        plot(pop_m[:,ti])\n",
      "        orig_m = M.get_node('data_' + species).value.mean(0)[ti]\n",
      "        axhline(orig_m, color='r', linestyle='dashed', linewidth=2)"
     ],
     "language": "python",
     "metadata": {},
     "outputs": [],
     "prompt_number": 62
    },
    {
     "cell_type": "code",
     "collapsed": false,
     "input": [
      "plot_mean_hists('B__F', stats)"
     ],
     "language": "python",
     "metadata": {},
     "outputs": [
      {
       "metadata": {},
       "output_type": "display_data",
       "png": "[encoded data removed]",
       "text": [
        "<matplotlib.figure.Figure at 0x3d66950>"
       ]
      },
      {
       "metadata": {},
       "output_type": "display_data",
       "png": "[encoded data removed]",
       "text": [
        "<matplotlib.figure.Figure at 0x3fc2350>"
       ]
      },
      {
       "metadata": {},
       "output_type": "display_data",
       "png": "[encoded data removed]",
       "text": [
        "<matplotlib.figure.Figure at 0x452b6d0>"
       ]
      },
      {
       "metadata": {},
       "output_type": "display_data",
       "png": "[encoded data removed]",
       "text": [
        "<matplotlib.figure.Figure at 0x4c81dd0>"
       ]
      }
     ],
     "prompt_number": 66
    },
    {
     "cell_type": "code",
     "collapsed": false,
     "input": [
      "stats.keys()"
     ],
     "language": "python",
     "metadata": {},
     "outputs": [
      {
       "metadata": {},
       "output_type": "pyout",
       "prompt_number": 41,
       "text": [
        "['B__M']"
       ]
      }
     ],
     "prompt_number": 41
    },
    {
     "cell_type": "code",
     "collapsed": false,
     "input": [
      "reload(model_test)"
     ],
     "language": "python",
     "metadata": {},
     "outputs": [
      {
       "output_type": "stream",
       "stream": "stdout",
       "text": [
        "B__M\n",
        "B__F\n",
        "C__M\n",
        "C__F\n",
        "E__M\n",
        "E__F\n",
        "A__M\n",
        "A__F\n",
        "D__M\n",
        "D__F\n"
       ]
      },
      {
       "metadata": {},
       "output_type": "pyout",
       "prompt_number": 52,
       "text": [
        "<module 'model_test' from 'model_test.py'>"
       ]
      }
     ],
     "prompt_number": 52
    },
    {
     "cell_type": "code",
     "collapsed": false,
     "input": [
      "M.nodes"
     ],
     "language": "python",
     "metadata": {},
     "outputs": [
      {
       "metadata": {},
       "output_type": "pyout",
       "prompt_number": 56,
       "text": [
        "{<pymc.distributions.MvNormalCov 'theta_7' at 0x3b89810>,\n",
        " <pymc.distributions.MvNormalCov 'data_A__F' at 0x39d8050>,\n",
        " <pymc.distributions.MvNormalCov 'theta_E__M' at 0x39d8810>,\n",
        " <pymc.distributions.MvNormalCov 'data_E__F' at 0x39d8090>,\n",
        " <pymc.distributions.MvNormalCov 'theta_A' at 0x39d80d0>,\n",
        " <pymc.distributions.WishartCov 'sigma_7' at 0x3b89ed0>,\n",
        " <pymc.distributions.MvNormalCov 'theta_D__M' at 0x37f7910>,\n",
        " <pymc.distributions.MvNormalCov 'data_D__M' at 0x37f7950>,\n",
        " <pymc.distributions.WishartCov 'sigma_C' at 0x39d8710>,\n",
        " <pymc.distributions.MvNormalCov 'theta_C__F' at 0x39d89d0>,\n",
        " <pymc.distributions.MvNormalCov 'theta_5' at 0x4cb0450>,\n",
        " <pymc.distributions.WishartCov 'sigma_4' at 0x4cb0850>,\n",
        " <pymc.distributions.WishartCov 'sigma_C__F' at 0x39d8a10>,\n",
        " <pymc.distributions.MvNormalCov 'theta_8' at 0x38f6dd0>,\n",
        " <pymc.distributions.MvNormalCov 'theta_4' at 0x4cb0a50>,\n",
        " <pymc.distributions.MvNormalCov 'theta_A__F' at 0x37f7310>,\n",
        " <pymc.distributions.MvNormalCov 'data_A__M' at 0x39d8290>,\n",
        " <pymc.distributions.MvNormalCov 'theta_3' at 0x3b893d0>,\n",
        " <pymc.distributions.WishartCov 'sigma_E__F' at 0x39d8ad0>,\n",
        " <pymc.distributions.WishartCov 'sigma_A__F' at 0x39d8dd0>,\n",
        " <pymc.distributions.MvNormalCov 'theta_B' at 0x38f6b10>,\n",
        " <pymc.distributions.MvNormalCov 'data_E__M' at 0x39d8350>,\n",
        " <pymc.distributions.MvNormalCov 'data_B__F' at 0x39d8890>,\n",
        " <pymc.distributions.WishartCov 'sigma_C__M' at 0x39d8390>,\n",
        " <pymc.distributions.MvNormalCov 'data_B__M' at 0x3b7ff50>,\n",
        " <pymc.distributions.MvNormalCov 'data_D__F' at 0x37f73d0>,\n",
        " <pymc.distributions.WishartCov 'sigma_0' at 0x4cb0750>,\n",
        " <pymc.distributions.MvNormalCov 'theta_0' at 0x4cb0c10>,\n",
        " <pymc.distributions.WishartCov 'sigma_D__F' at 0x37f7d10>,\n",
        " <pymc.distributions.MvNormalCov 'theta_B__M' at 0x38f6450>,\n",
        " <pymc.distributions.WishartCov 'sigma_D__M' at 0x37f7210>,\n",
        " <pymc.distributions.MvNormalCov 'theta_A__M' at 0x39d8c90>,\n",
        " <pymc.distributions.MvNormalCov 'data_C__M' at 0x39d8d10>,\n",
        " <pymc.distributions.WishartCov 'sigma_1' at 0x4cb0d10>,\n",
        " <pymc.distributions.WishartCov 'sigma_B' at 0x3b89550>,\n",
        " <pymc.distributions.MvNormalCov 'theta_C' at 0x38f6410>,\n",
        " <pymc.distributions.WishartCov 'sigma_3' at 0x3b89d90>,\n",
        " <pymc.distributions.WishartCov 'sigma_5' at 0x3b89dd0>,\n",
        " <pymc.distributions.MvNormalCov 'theta_E__F' at 0x39d8a50>,\n",
        " <pymc.distributions.MvNormalCov 'theta_E' at 0x39d8610>,\n",
        " <pymc.distributions.MvNormalCov 'theta_D__F' at 0x37f7c10>,\n",
        " <pymc.distributions.MvNormalCov 'data_C__F' at 0x39d8650>,\n",
        " <pymc.distributions.WishartCov 'sigma_A__M' at 0x39d8510>,\n",
        " <pymc.distributions.WishartCov 'sigma_D' at 0x37f7690>,\n",
        " <pymc.distributions.WishartCov 'sigma_B__F' at 0x39d8c10>,\n",
        " <pymc.distributions.WishartCov 'sigma_B__M' at 0x38f6a90>,\n",
        " <pymc.distributions.WishartCov 'sigma_E__M' at 0x39d86d0>,\n",
        " <pymc.distributions.MvNormalCov 'theta_6' at 0x3b89c50>,\n",
        " <pymc.distributions.MvNormalCov 'theta_C__M' at 0x39d83d0>,\n",
        " <pymc.distributions.WishartCov 'sigma_2' at 0x3b89f10>,\n",
        " <pymc.distributions.WishartCov 'sigma_8' at 0x38f6f50>,\n",
        " <pymc.distributions.MvNormalCov 'theta_B__F' at 0x39d8f50>,\n",
        " <pymc.distributions.WishartCov 'sigma_6' at 0x3b89690>,\n",
        " <pymc.distributions.MvNormalCov 'theta_2' at 0x3b89fd0>,\n",
        " <pymc.distributions.WishartCov 'sigma_E' at 0x39d8b50>,\n",
        " <pymc.distributions.MvNormalCov 'theta_D' at 0x39d87d0>,\n",
        " <pymc.distributions.MvNormalCov 'theta_1' at 0x4cb0250>,\n",
        " <pymc.distributions.WishartCov 'sigma_A' at 0x39d8550>}"
       ]
      }
     ],
     "prompt_number": 56
    },
    {
     "cell_type": "code",
     "collapsed": false,
     "input": [],
     "language": "python",
     "metadata": {},
     "outputs": []
    }
   ],
   "metadata": {}
  }
 ]
}