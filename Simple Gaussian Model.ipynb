{
 "metadata": {
  "name": "Simple Gaussian Model"
 },
 "nbformat": 3,
 "nbformat_minor": 0,
 "worksheets": [
  {
   "cells": [
    {
     "cell_type": "code",
     "collapsed": false,
     "input": [
      "import pymc as pm\n",
      "import numpy as np\n",
      "\n",
      "# Criando parametros conhecidos\n",
      "original_sigma = np.array([[1, 0.5], [0.5, 1]])\n",
      "original_theta = [1, -1]\n",
      "\n",
      "# Simulando dados com media theta e covariancia sigma\n",
      "data = np.random.multivariate_normal(original_theta, original_sigma, 100)\n",
      "\n",
      "# Definindo priors, Wishart pra sigma e normal pra theta\n",
      "sigma = pm.WishartCov('sigma', n=3, C=np.eye(2), value=np.eye(2))\n",
      "\n",
      "theta = pm.MvNormalCov('theta', mu=[0.,0.], C=np.eye(2), value=[0.,0.])\n",
      "\n",
      "# Verossimilhanca gaussiana com media theta e covariancia sigma\n",
      "x = pm.MvNormalCov('x', theta, sigma, value=data, observed=True)"
     ],
     "language": "python",
     "metadata": {},
     "outputs": [
      {
       "output_type": "stream",
       "stream": "stdout",
       "text": [
        " \r",
        "[****************100%******************]  10000 of 10000 complete"
       ]
      },
      {
       "output_type": "stream",
       "stream": "stdout",
       "text": [
        "\n"
       ]
      }
     ],
     "prompt_number": 1
    },
    {
     "cell_type": "code",
     "collapsed": false,
     "input": [
      "import simple_normal_model"
     ],
     "language": "python",
     "metadata": {},
     "outputs": [
      {
       "output_type": "stream",
       "stream": "stdout",
       "text": [
        " \r",
        "[****************100%******************]  10000 of 10000 complete"
       ]
      },
      {
       "output_type": "stream",
       "stream": "stdout",
       "text": [
        "\n"
       ]
      }
     ],
     "prompt_number": 5
    },
    {
     "cell_type": "code",
     "collapsed": false,
     "input": [
      "MM = pm.MCMC(simple_normal_model)"
     ],
     "language": "python",
     "metadata": {},
     "outputs": [],
     "prompt_number": 6
    },
    {
     "cell_type": "code",
     "collapsed": false,
     "input": [
      "MM."
     ],
     "language": "python",
     "metadata": {},
     "outputs": []
    }
   ],
   "metadata": {}
  }
 ]
}