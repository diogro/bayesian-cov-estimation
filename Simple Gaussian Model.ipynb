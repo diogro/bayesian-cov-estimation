{
 "metadata": {
  "name": "Simple Gaussian Model"
 },
 "nbformat": 3,
 "nbformat_minor": 0,
 "worksheets": [
  {
   "cells": [
    {
     "cell_type": "code",
     "collapsed": false,
     "input": [
      "import pymc as pm\n",
      "import numpy as np\n",
      "\n",
      "# Criando parametros conhecidos\n",
      "original_sigma = np.array([[1, 0.5], [0.5, 1]])\n",
      "original_theta = [1, -1]\n",
      "\n",
      "# Simulando dados com media theta e covariancia sigma\n",
      "data = np.random.multivariate_normal(original_theta, original_sigma, 100)\n",
      "\n",
      "# Definindo priors, Wishart pra sigma e normal pra theta\n",
      "sigma = pm.WishartCov('sigma', n=3, C=np.eye(2), value=np.eye(2))\n",
      "\n",
      "theta = pm.MvNormalCov('theta', mu=[0.,0.], C=np.eye(2), value=[0.,0.])\n",
      "\n",
      "# Verossimilhanca gaussiana com media theta e covariancia sigma\n",
      "x = pm.MvNormalCov('x', theta, sigma, value=data, observed=True)"
     ],
     "language": "python",
     "metadata": {},
     "outputs": [],
     "prompt_number": 3
    },
    {
     "cell_type": "code",
     "collapsed": false,
     "input": [
      "import simple_normal_model"
     ],
     "language": "python",
     "metadata": {},
     "outputs": [],
     "prompt_number": 4
    },
    {
     "cell_type": "code",
     "collapsed": false,
     "input": [
      "M = pm.MCMC(simple_normal_model)\n",
      "M.sample(iter=10000, burn=1000, thin=10)"
     ],
     "language": "python",
     "metadata": {},
     "outputs": [
      {
       "output_type": "stream",
       "stream": "stdout",
       "text": [
        " \r",
        "[****************100%******************]  10000 of 10000 complete"
       ]
      },
      {
       "output_type": "stream",
       "stream": "stdout",
       "text": [
        "\n"
       ]
      }
     ],
     "prompt_number": 7
    },
    {
     "cell_type": "code",
     "collapsed": false,
     "input": [
      "from pylab import hist, show\n",
      "hist(M.trace('theta')[:])\n",
      "show()"
     ],
     "language": "python",
     "metadata": {},
     "outputs": [
      {
       "output_type": "pyout",
       "prompt_number": 8,
       "text": [
        "([array([  0,   0,   0,   0,   0,   0,   0,  12, 627, 261]),\n",
        "  array([168, 706,  26,   0,   0,   0,   0,   0,   0,   0])],\n",
        " array([-1.35465184, -1.07877575, -0.80289965, -0.52702356, -0.25114746,\n",
        "        0.02472863,  0.30060473,  0.57648082,  0.85235691,  1.12823301,\n",
        "        1.4041091 ]),\n",
        " <a list of 2 Lists of Patches objects>)"
       ]
      }
     ],
     "prompt_number": 8
    },
    {
     "cell_type": "code",
     "collapsed": false,
     "input": [
      "from pymc.Matplot import plot\n",
      "plot(M)\n",
      "show()"
     ],
     "language": "python",
     "metadata": {},
     "outputs": [
      {
       "output_type": "stream",
       "stream": "stdout",
       "text": [
        "Plotting theta_0\n",
        "Plotting"
       ]
      },
      {
       "output_type": "stream",
       "stream": "stdout",
       "text": [
        " theta_1\n",
        "Plotting"
       ]
      },
      {
       "output_type": "stream",
       "stream": "stdout",
       "text": [
        " sigma_0_0\n",
        "Plotting"
       ]
      },
      {
       "output_type": "stream",
       "stream": "stdout",
       "text": [
        " sigma_0_1\n",
        "Plotting"
       ]
      },
      {
       "output_type": "stream",
       "stream": "stdout",
       "text": [
        " sigma_1_0\n",
        "Plotting"
       ]
      },
      {
       "output_type": "stream",
       "stream": "stdout",
       "text": [
        " sigma_1_1\n"
       ]
      }
     ],
     "prompt_number": 14
    },
    {
     "cell_type": "code",
     "collapsed": false,
     "input": [],
     "language": "python",
     "metadata": {},
     "outputs": []
    }
   ],
   "metadata": {}
  }
 ]
}