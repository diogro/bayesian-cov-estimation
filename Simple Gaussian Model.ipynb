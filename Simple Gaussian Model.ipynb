{
 "metadata": {
  "name": "Simple Gaussian Model"
 },
 "nbformat": 3,
 "nbformat_minor": 0,
 "worksheets": [
  {
   "cells": [
    {
     "cell_type": "code",
     "collapsed": false,
     "input": [
      "# conteudo do arquivo simple_normal_model\n",
      "\n",
      "import pymc as pm\n",
      "import numpy as np\n",
      "\n",
      "# Criando parametros conhecidos\n",
      "original_sigma = np.array([[1, 0.5], [0.5, 1]])\n",
      "original_theta = [1, -1]\n",
      "\n",
      "# Simulando dados com media theta e covariancia sigma\n",
      "data = np.random.multivariate_normal(original_theta, original_sigma, 100)\n",
      "\n",
      "# Definindo priors, Wishart pra sigma e normal pra theta\n",
      "sigma = pm.WishartCov('sigma', n=3, C=np.eye(2), value=np.eye(2))\n",
      "\n",
      "theta = pm.MvNormalCov('theta', mu=[0.,0.], C=np.eye(2), value=[0.,0.])\n",
      "\n",
      "# Verossimilhanca gaussiana com media theta e covariancia sigma\n",
      "x = pm.MvNormalCov('x', theta, sigma, value=data, observed=True)"
     ],
     "language": "python",
     "metadata": {},
     "outputs": [],
     "prompt_number": 2
    },
    {
     "cell_type": "code",
     "collapsed": false,
     "input": [
      "import simple_normal_model"
     ],
     "language": "python",
     "metadata": {},
     "outputs": [],
     "prompt_number": 3
    },
    {
     "cell_type": "code",
     "collapsed": false,
     "input": [
      "M = pm.MCMC(simple_normal_model)\n",
      "M.sample(iter=10000, burn=1000, thin=10)"
     ],
     "language": "python",
     "metadata": {},
     "outputs": [
      {
       "output_type": "stream",
       "stream": "stdout",
       "text": [
        " \r",
        "[****************100%******************]  10000 of 10000 complete"
       ]
      },
      {
       "output_type": "stream",
       "stream": "stdout",
       "text": [
        "\n"
       ]
      }
     ],
     "prompt_number": 4
    },
    {
     "cell_type": "code",
     "collapsed": false,
     "input": [
      "from pylab import hist, show\n",
      "\n",
      "hist(M.trace('theta')[:])"
     ],
     "language": "python",
     "metadata": {},
     "outputs": [
      {
       "output_type": "pyout",
       "prompt_number": 5,
       "text": [
        "([array([  0,   0,   0,   0,   0,   0,   1,  47, 617, 235]),\n",
        "  array([171, 675,  54,   0,   0,   0,   0,   0,   0,   0])],\n",
        " array([-1.17582416, -0.92252373, -0.6692233 , -0.41592287, -0.16262244,\n",
        "        0.09067799,  0.34397843,  0.59727886,  0.85057929,  1.10387972,\n",
        "        1.35718015]),\n",
        " <a list of 2 Lists of Patches objects>)"
       ]
      }
     ],
     "prompt_number": 5
    },
    {
     "cell_type": "code",
     "collapsed": false,
     "input": [
      "pm.graph.graph(M,format='png',path='',name='graph_mine',prog='dot')"
     ],
     "language": "python",
     "metadata": {},
     "outputs": [
      {
       "output_type": "pyout",
       "prompt_number": 9,
       "text": [
        "<pydot.Dot at 0x44ca7d0>"
       ]
      }
     ],
     "prompt_number": 9
    },
    {
     "cell_type": "code",
     "collapsed": false,
     "input": [
      "from pymc.Matplot import plot\n",
      "plot(M)\n",
      "show()"
     ],
     "language": "python",
     "metadata": {},
     "outputs": [
      {
       "output_type": "stream",
       "stream": "stdout",
       "text": [
        "Plotting theta_0\n",
        "Plotting"
       ]
      },
      {
       "output_type": "stream",
       "stream": "stdout",
       "text": [
        " theta_1\n",
        "Plotting"
       ]
      },
      {
       "output_type": "stream",
       "stream": "stdout",
       "text": [
        " sigma_0_0\n",
        "Plotting"
       ]
      },
      {
       "output_type": "stream",
       "stream": "stdout",
       "text": [
        " sigma_0_1\n",
        "Plotting"
       ]
      },
      {
       "output_type": "stream",
       "stream": "stdout",
       "text": [
        " sigma_1_0\n",
        "Plotting"
       ]
      },
      {
       "output_type": "stream",
       "stream": "stdout",
       "text": [
        " sigma_1_1\n"
       ]
      }
     ],
     "prompt_number": 29
    },
    {
     "cell_type": "code",
     "collapsed": false,
     "input": [
      "M.stats()"
     ],
     "language": "python",
     "metadata": {},
     "outputs": [
      {
       "output_type": "pyout",
       "prompt_number": 31,
       "text": [
        "{'sigma': {'95% HPD interval': array([[[ 0.81307253,  1.39237303],\n",
        "        [ 0.28007306,  0.77481026]],\n",
        "\n",
        "       [[ 0.28007306,  0.77481026],\n",
        "        [ 0.81685501,  1.4504374 ]]]),\n",
        "  'mc error': array([[ 0.00773787,  0.00780504],\n",
        "       [ 0.00780504,  0.0095864 ]]),\n",
        "  'mean': array([[ 1.1006422 ,  0.54037995],\n",
        "       [ 0.54037995,  1.09370845]]),\n",
        "  'n': 900,\n",
        "  'quantiles': {2.5: array([[ 0.84472156,  0.30676115],\n",
        "       [ 0.30676115,  0.82623128]]),\n",
        "   25: array([[ 0.99438885,  0.45230703],\n",
        "       [ 0.45230703,  0.96798762]]),\n",
        "   50: array([[ 1.09171236,  0.5333777 ],\n",
        "       [ 0.5333777 ,  1.08048935]]),\n",
        "   75: array([[ 1.19251685,  0.62591057],\n",
        "       [ 0.62591057,  1.18683823]]),\n",
        "   97.5: array([[ 1.44260662,  0.81896024],\n",
        "       [ 0.81896024,  1.47502019]])},\n",
        "  'standard deviation': array([[ 0.15303242,  0.12797348],\n",
        "       [ 0.12797348,  0.17073299]])},\n",
        " 'theta': {'95% HPD interval': array([[ 0.88155355,  1.25896237],\n",
        "       [-1.1991035 , -0.81313676]]),\n",
        "  'mc error': array([ 0.0043411,  0.0046306]),\n",
        "  'mean': array([ 1.07036664, -1.00054142]),\n",
        "  'n': 900,\n",
        "  'quantiles': {2.5: array([ 0.8921162, -1.1971472]),\n",
        "   25: array([ 0.99714472, -1.06956744]),\n",
        "   50: array([ 1.06933469, -0.99705585]),\n",
        "   75: array([ 1.13896045, -0.93558607]),\n",
        "   97.5: array([ 1.27336918, -0.80790835])},\n",
        "  'standard deviation': array([ 0.10041161,  0.10084034])}}"
       ]
      }
     ],
     "prompt_number": 31
    },
    {
     "cell_type": "code",
     "collapsed": false,
     "input": [],
     "language": "python",
     "metadata": {},
     "outputs": []
    }
   ],
   "metadata": {}
  }
 ]
}