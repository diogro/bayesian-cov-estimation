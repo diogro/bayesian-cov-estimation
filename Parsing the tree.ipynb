{
 "metadata": {
  "name": "Parsing the tree"
 },
 "nbformat": 3,
 "nbformat_minor": 0,
 "worksheets": [
  {
   "cells": [
    {
     "cell_type": "code",
     "collapsed": false,
     "input": [
      "import dendropy"
     ],
     "language": "python",
     "metadata": {},
     "outputs": [],
     "prompt_number": 1
    },
    {
     "cell_type": "code",
     "collapsed": false,
     "input": [
      "t = dendropy.Tree.get_from_string(\"(a,(b,(c,d)))\", \"newick\")"
     ],
     "language": "python",
     "metadata": {},
     "outputs": [],
     "prompt_number": 3
    },
    {
     "cell_type": "code",
     "collapsed": false,
     "input": [
      "#dados = pd.read_csv(\"./dados5sp.csv\")\n",
      "\n",
      "root = t.seed_node\n",
      "\n",
      "theta = []\n",
      "sigma = []\n",
      "\n",
      "#theta.append(pm.MvNormalCov('theta_root',\n",
      "#                              mu=np.array(dados.ix[:,0:4].mean()),\n",
      "#                              C=np.eye(4)*10.))\n",
      "\n",
      "#sigma.append(pm.WishartCov('sigma_root',\n",
      "#                             n=5,\n",
      "#                             C=np.eye(4)*10.))\n",
      "\n",
      "for n in t.nodes()[1:]:\n",
      "    print n.level()\n",
      "  \n",
      "print \"Folhas:\"\n",
      "for n in t.leaf_nodes():\n",
      "    print n.level()\n",
      "    \n",
      "print t.print_plot()"
     ],
     "language": "python",
     "metadata": {},
     "outputs": [
      {
       "output_type": "stream",
       "stream": "stdout",
       "text": [
        "1\n",
        "1\n",
        "2\n",
        "2\n",
        "3\n",
        "3\n",
        "Folhas:\n",
        "1\n",
        "2\n",
        "3\n",
        "3\n",
        "/---------------------------------------------------------------- a\n",
        "+                                                                  \n",
        "|                    /------------------------------------------- b\n",
        "\\--------------------+                                             \n",
        "                     |                     /--------------------- c\n",
        "                     \\---------------------+                       \n",
        "                                           \\--------------------- d\n",
        "                                                                   \n",
        "                                                                   \n",
        "None\n"
       ]
      }
     ],
     "prompt_number": 27
    },
    {
     "cell_type": "code",
     "collapsed": false,
     "input": [],
     "language": "python",
     "metadata": {},
     "outputs": []
    }
   ],
   "metadata": {}
  }
 ]
}