{
 "metadata": {
  "name": "Monkey Model"
 },
 "nbformat": 3,
 "nbformat_minor": 0,
 "worksheets": [
  {
   "cells": [
    {
     "cell_type": "code",
     "collapsed": false,
     "input": [
      "import pymc as pm\n",
      "import pandas as pd\n",
      "import numpy as np\n",
      "import dendropy\n",
      "import monkey_model"
     ],
     "language": "python",
     "metadata": {},
     "outputs": [],
     "prompt_number": 1
    },
    {
     "cell_type": "code",
     "collapsed": false,
     "input": [
      "import pandas as pd\n",
      "import numpy as np\n",
      "import pymc as pm\n",
      "import dendropy\n",
      "\n",
      "data = pd.read_csv(\"./monkey.data.csv\")\n",
      "\n",
      "t = dendropy.Tree.get_from_path(\"./monkey.tree.nw\", \"newick\")\n",
      "num_leafs = len(t.leaf_nodes())\n",
      "num_traits = 39\n",
      "\n",
      "root = t.seed_node\n",
      "\n",
      "theta = [pm.MvNormalCov('theta_0',\n",
      "                        mu=np.array(data.ix[:,0:num_traits].mean()),\n",
      "                        C=np.eye(num_traits)*10.,\n",
      "                        value=np.zeros(num_traits))]\n",
      "\n",
      "sigma = [pm.WishartCov('sigma_0',\n",
      "                       n=num_traits+1,\n",
      "                       C=np.eye(num_traits)*10.,\n",
      "                       value=np.eye(num_traits))]\n",
      "\n",
      "tree_idx = {str(root): 0}\n",
      "\n",
      "i = 1\n",
      "for n in t.nodes()[1:]:\n",
      "    parent_idx = tree_idx[str(n.parent_node)]\n",
      "\n",
      "    theta.append(pm.MvNormalCov('theta_{}'.format(str(i)),\n",
      "                                mu=theta[parent_idx],\n",
      "                                C=sigma[parent_idx],\n",
      "                                value=np.zeros(num_traits)))\n",
      "\n",
      "    sigma.append(pm.WishartCov('sigma_{}'.format(str(i)),\n",
      "                               n=num_traits+1,\n",
      "                               C=sigma[parent_idx],\n",
      "                               value=np.eye(num_traits)))\n",
      "\n",
      "    tree_idx[str(n)] = len(theta) - 1\n",
      "    i = i + 1\n",
      "\n",
      "models = {}\n",
      "for n in t.leaf_nodes():\n",
      "    sub_species = list(data.ix[data['species']==str(n.taxon),'SUB'])\n",
      "    models[str(n)] = [sub_species[1]]\n",
      "    for sub in sub_species[1:]:\n",
      "        if not (any(sub in s for s in models[str(n)])):\n",
      "            models[str(n)].append(sub)\n",
      "\n",
      "data_list = []\n",
      "for n in t.leaf_nodes():\n",
      "    leaf_idx = tree_idx[str(n)]\n",
      "    for sub in models[str(n)]:\n",
      "        theta.append(pm.MvNormalCov('theta_{}_{}_{}'.format(n.taxon, str(sub), 'M'),\n",
      "                                    mu=theta[leaf_idx],\n",
      "                                    C=sigma[leaf_idx],\n",
      "                                    value=np.zeros(num_traits)))\n",
      "        data_list.append(pm.MvNormalCov('data_{}_{}_{}'.format(n.taxon, str(sub), 'M'),\n",
      "                                        mu=theta[len(theta)-1],\n",
      "                                        C=sigma[leaf_idx],\n",
      "                                        value=np.array(data.ix[(data['species'] == str(n.taxon)) & (data['SUB'] == sub) & (data['SEX'] == 'M'), 0:num_traits]),\n",
      "                                        observed=True))\n",
      "        theta.append(pm.MvNormalCov('theta_{}_{}_{}'.format(n.taxon, str(sub), 'F'),\n",
      "                                    mu=theta[leaf_idx],\n",
      "                                    C=sigma[leaf_idx],\n",
      "                                    value=np.zeros(num_traits)))\n",
      "        data_list.append(pm.MvNormalCov('data_{}_{}_{}'.format(n.taxon, str(sub), 'F'),\n",
      "                                        mu=theta[len(theta)-1],\n",
      "                                        C=sigma[leaf_idx],\n",
      "                                        value=np.array(data.ix[(data['species'] == str(n.taxon)) & (data['SUB'] == sub) & (data['SEX'] == 'F'), 0:num_traits]),\n",
      "                                        observed=True))"
     ],
     "language": "python",
     "metadata": {},
     "outputs": [],
     "prompt_number": 152
    },
    {
     "cell_type": "code",
     "collapsed": false,
     "input": [
      "M = pm.MCMC(monkey_model)"
     ],
     "language": "python",
     "metadata": {},
     "outputs": [],
     "prompt_number": 2
    },
    {
     "cell_type": "code",
     "collapsed": false,
     "input": [
      "pm.graph.graph(M,format='png',path='',name='graph_mine')"
     ],
     "language": "python",
     "metadata": {},
     "outputs": [
      {
       "output_type": "stream",
       "stream": "stdout",
       "text": [
        "Fontconfig warning: \"/etc/fonts/conf.d/50-user.conf\", line 9: reading configurations from ~/.fonts.conf is deprecated.\n",
        "dot: graph is too large for cairo-renderer bitmaps. Scaling by 0.163554 to fit\n",
        "\n"
       ]
      },
      {
       "output_type": "pyout",
       "prompt_number": 6,
       "text": [
        "<pydot.Dot at 0x10478110>"
       ]
      }
     ],
     "prompt_number": 6
    },
    {
     "cell_type": "code",
     "collapsed": false,
     "input": [
      "M.sample(iter=10000, burn=1000, thin=10)"
     ],
     "language": "python",
     "metadata": {},
     "outputs": [
      {
       "output_type": "stream",
       "stream": "stdout",
       "text": [
        " \r",
        "[*********        24%                  ]  2400 of 10000 complete"
       ]
      }
     ],
     "prompt_number": "*"
    },
    {
     "cell_type": "code",
     "collapsed": false,
     "input": [],
     "language": "python",
     "metadata": {},
     "outputs": []
    }
   ],
   "metadata": {}
  }
 ]
}