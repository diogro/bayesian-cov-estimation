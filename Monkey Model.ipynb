{
 "metadata": {
  "name": "Monkey Model"
 },
 "nbformat": 3,
 "nbformat_minor": 0,
 "worksheets": [
  {
   "cells": [
    {
     "cell_type": "code",
     "collapsed": false,
     "input": [
      "import pymc as pm\n",
      "import pandas as pd\n",
      "import numpy as np\n",
      "import dendropy\n",
      "import monkey_model"
     ],
     "language": "python",
     "metadata": {},
     "outputs": [],
     "prompt_number": 1
    },
    {
     "cell_type": "code",
     "collapsed": false,
     "input": [
      "M = pm.MCMC(monkey_model, db='pickle', dbname='NWM.pickle')"
     ],
     "language": "python",
     "metadata": {},
     "outputs": [],
     "prompt_number": 2
    },
    {
     "cell_type": "code",
     "collapsed": false,
     "input": [
      "pm.graph.graph(M,format='dot',path='',name='graph_small_nwm.png')"
     ],
     "language": "python",
     "metadata": {},
     "outputs": [
      {
       "output_type": "pyout",
       "prompt_number": 3,
       "text": [
        "<pydot.Dot at 0x4fcc7d0>"
       ]
      }
     ],
     "prompt_number": 3
    },
    {
     "cell_type": "code",
     "collapsed": false,
     "input": [
      "M.sample(iter=100000, burn=90000, thin=100)\n",
      "M.db.close()"
     ],
     "language": "python",
     "metadata": {},
     "outputs": [
      {
       "output_type": "stream",
       "stream": "stdout",
       "text": [
        " \r",
        "[****************100%******************]  100000 of 100000 complete"
       ]
      },
      {
       "output_type": "stream",
       "stream": "stdout",
       "text": [
        "\n"
       ]
      }
     ],
     "prompt_number": 4
    },
    {
     "cell_type": "code",
     "collapsed": false,
     "input": [
      "t = dendropy.Tree.get_from_path(\"./nwm.tree.nw\", \"newick\")\n",
      "print t.print_plot()"
     ],
     "language": "python",
     "metadata": {},
     "outputs": [
      {
       "output_type": "stream",
       "stream": "stdout",
       "text": [
        "                                                                      /--------- Aotus azarai boliviensis\n",
        "                                                            /---------+                                  \n",
        "/-----------------------------------------------------------+         \\--------- Aotus nigriceps         \n",
        "|                                                           |                                            \n",
        "|                                                           \\------------------- Aotus lemurinus         \n",
        "|                                                                                                        \n",
        "|                             /------------------------------------------------- Callimico goeldii       \n",
        "|                             |                                                                          \n",
        "|                             |                                       /--------- Callithrix argentata    \n",
        "|                   /---------+                             /---------+                                  \n",
        "|                   |         |         /-------------------+         \\--------- Callithrix humeralifera \n",
        "+                   |         |         |                   |                                            \n",
        "|                   |         \\---------+                   \\------------------- Callithrix pygmaea      \n",
        "|                   |                   |                                                                \n",
        "|                   |                   |         /----------------------------- Callithrix geoffroyi    \n",
        "|         /---------+                   \\---------+                                                      \n",
        "|         |         |                             |         /------------------- Callithrix jacchus      \n",
        "|         |         |                             \\---------+                                            \n",
        "|         |         |                                       |         /--------- Callithrix kuhli        \n",
        "|         |         |                                       \\---------+                                  \n",
        "\\---------+         |                                                 \\--------- Callithrix penicillata  \n",
        "          |         |                                                                                    \n",
        "          |         \\----------------------------------------------------------- Leontopithecus rosalia  \n",
        "          |                                                                                              \n",
        "          |                                                           /--------- Saguinus midas          \n",
        "          |                                                 /---------+                                  \n",
        "          \\-------------------------------------------------+         \\--------- Saguinus mystax         \n",
        "                                                            |                                            \n",
        "                                                            \\------------------- Saguinus fuscicollis    \n",
        "                                                                                                         \n",
        "                                                                                                         \n",
        "None\n"
       ]
      }
     ],
     "prompt_number": 9
    },
    {
     "cell_type": "code",
     "collapsed": false,
     "input": [
      "db = pm.database.pickle.load('NWMt.pickle')\n",
      "\n"
     ],
     "language": "python",
     "metadata": {},
     "outputs": [],
     "prompt_number": 11
    },
    {
     "cell_type": "code",
     "collapsed": false,
     "input": [
      "M = pm.MCMC(monkey_model, db=db)\n"
     ],
     "language": "python",
     "metadata": {},
     "outputs": [],
     "prompt_number": 12
    },
    {
     "cell_type": "code",
     "collapsed": false,
     "input": [
      "M.theta[6].trace[:].mean(0)"
     ],
     "language": "python",
     "metadata": {},
     "outputs": [
      {
       "output_type": "pyout",
       "prompt_number": 13,
       "text": [
        "array([  8.93648702,  22.84092496,  41.48955946,  33.20889796,\n",
        "        41.41268026,  38.60525217,  21.31642716,  25.26134493,\n",
        "        43.21570545,  45.33405525,  27.4662386 ,  28.96298334,\n",
        "        40.68322901,  37.18091025,  12.78262905,  28.81658221,\n",
        "        49.68980953,  31.0240826 ,  25.06316611,   7.73661805,\n",
        "        16.3175784 ,  36.70117278,  23.07230496,  17.97213897,\n",
        "        21.07927373,  30.05101563,  16.35620325,  31.37352739,\n",
        "        23.32028829,  11.78788163,  27.09170997,  28.45368007,\n",
        "        21.42309082,  23.41033397,  30.20377041,  21.19316776,\n",
        "        49.16217091,  21.42669322,  12.87903035])"
       ]
      }
     ],
     "prompt_number": 13
    },
    {
     "cell_type": "code",
     "collapsed": false,
     "input": [
      "alouata = open('alouata.csv', 'w')\n",
      "(M.sigma[6].trace[:].mean(0)).tofile(alouata, sep=';')"
     ],
     "language": "python",
     "metadata": {},
     "outputs": []
    },
    {
     "cell_type": "code",
     "collapsed": false,
     "input": [
      "(M.sigma[6].trace[:].mean(0))"
     ],
     "language": "python",
     "metadata": {},
     "outputs": []
    },
    {
     "cell_type": "code",
     "collapsed": false,
     "input": [
      "t = dendropy.Tree.get_from_path(\"./small.nwm.tree.nw\", \"newick\")\n",
      "root = t.seed_node\n",
      "tree_idx = {str(root): 0}\n",
      "\n",
      "i = 1\n",
      "for n in t.nodes()[1:]:\n",
      "   \n",
      "    tree_idx[str(n)] = i\n",
      "    i = i + 1\n",
      "\n",
      "nwm_cov = open('/home/diogro/Dropbox/labbio/cov_bayes_data/small.nwm.matrix.cov.bayes.csv', 'w')\n",
      "nwm_means = open('/home/diogro/Dropbox/labbio/cov_bayes_data/small.nwm.matrix.means.bayes.csv', 'w')\n",
      "nwm_names = open('/home/diogro/Dropbox/labbio/cov_bayes_data/small.nwm.names.txt', 'w')\n",
      "\n",
      "for n in t.leaf_nodes():\n",
      "    print str(n.taxon), tree_idx[str(n)]\n",
      "    (M.sigma[tree_idx[str(n)]].trace[:].mean(0)).tofile(nwm_cov, sep=';')\n",
      "    (M.theta[tree_idx[str(n)]].trace[:].mean(0)).tofile(nwm_means, sep=';')\n",
      "    nwm_cov.write('\\n')\n",
      "    nwm_means.write('\\n')\n",
      "    nwm_names.write(str(n.taxon).replace(' ', '_') + '\\n')\n",
      "nwm_names.flush()\n",
      "nwm_cov.flush()\n",
      "nwm_means.flush()"
     ],
     "language": "python",
     "metadata": {},
     "outputs": [
      {
       "output_type": "stream",
       "stream": "stdout",
       "text": [
        "Aotus azarai boliviensis 3\n",
        "Aotus nigriceps 4\n",
        "Aotus lemurinus 5\n",
        "Callimico goeldii 9\n",
        "Callithrix argentata 13\n",
        "Callithrix humeralifera 14\n",
        "Callithrix pygmaea 15\n",
        "Callithrix geoffroyi 17\n",
        "Callithrix jacchus 19\n",
        "Callithrix kuhli 21\n",
        "Callithrix penicillata 22\n",
        "Leontopithecus rosalia 23\n",
        "Saguinus midas 26\n",
        "Saguinus mystax 27\n",
        "Saguinus fuscicollis 28\n"
       ]
      }
     ],
     "prompt_number": 5
    },
    {
     "cell_type": "code",
     "collapsed": false,
     "input": [],
     "language": "python",
     "metadata": {},
     "outputs": []
    }
   ],
   "metadata": {}
  }
 ]
}