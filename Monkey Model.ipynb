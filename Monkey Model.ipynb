{
 "metadata": {
  "name": "Monkey Model"
 },
 "nbformat": 3,
 "nbformat_minor": 0,
 "worksheets": [
  {
   "cells": [
    {
     "cell_type": "code",
     "collapsed": false,
     "input": [
      "import pymc as pm\n",
      "import pandas as pd\n",
      "import numpy as np\n",
      "import dendropy\n",
      "import monkey_model"
     ],
     "language": "python",
     "metadata": {},
     "outputs": []
    },
    {
     "cell_type": "code",
     "collapsed": false,
     "input": [
      "import pandas as pd\n",
      "import numpy as np\n",
      "import pymc as pm\n",
      "import dendropy\n",
      "\n",
      "data = pd.read_csv(\"./monkey.data.csv\")\n",
      "\n",
      "t = dendropy.Tree.get_from_path(\"./monkey.tree.nw\", \"newick\")\n",
      "num_leafs = len(t.leaf_nodes())\n",
      "num_traits = 39\n",
      "\n",
      "root = t.seed_node\n",
      "\n",
      "theta = [pm.MvNormalCov('theta_0',\n",
      "                        mu=np.array(data.ix[:,0:num_traits].mean()),\n",
      "                        C=np.eye(num_traits)*10.,\n",
      "                        value=np.zeros(num_traits))]\n",
      "\n",
      "sigma = [pm.WishartCov('sigma_0',\n",
      "                       n=num_traits+1,\n",
      "                       C=np.eye(num_traits)*10.,\n",
      "                       value=np.eye(num_traits))]\n",
      "\n",
      "tree_idx = {str(root): 0}\n",
      "\n",
      "i = 1\n",
      "for n in t.nodes()[1:]:\n",
      "    parent_idx = tree_idx[str(n.parent_node)]\n",
      "\n",
      "    theta.append(pm.MvNormalCov('theta_{}'.format(str(i)),\n",
      "                                mu=theta[parent_idx],\n",
      "                                C=sigma[parent_idx],\n",
      "                                value=np.zeros(num_traits)))\n",
      "\n",
      "    sigma.append(pm.WishartCov('sigma_{}'.format(str(i)),\n",
      "                               n=num_traits+1,\n",
      "                               C=sigma[parent_idx],\n",
      "                               value=np.eye(num_traits)))\n",
      "\n",
      "    tree_idx[str(n)] = len(theta) - 1\n",
      "    i = i + 1\n",
      "\n",
      "data_list = []\n",
      "for n in t.leaf_nodes():\n",
      "    leaf_idx = tree_idx[str(n)]\n",
      "    data_list.append(pm.MvNormalCov('data_{}'.format(n.taxon),\n",
      "                                    mu=theta[leaf_idx],\n",
      "                                    C=sigma[leaf_idx],\n",
      "                                    value=np.array(data.ix[data['species'] == str(n.taxon), 0:num_traits]),\n",
      "                                    observed=True))\n"
     ],
     "language": "python",
     "metadata": {},
     "outputs": []
    },
    {
     "cell_type": "code",
     "collapsed": false,
     "input": [
      "print t.print_plot()"
     ],
     "language": "python",
     "metadata": {},
     "outputs": []
    },
    {
     "cell_type": "code",
     "collapsed": false,
     "input": [
      "M = pm.MCMC(monkey_model)"
     ],
     "language": "python",
     "metadata": {},
     "outputs": []
    },
    {
     "cell_type": "code",
     "collapsed": false,
     "input": [
      "pm.graph.graph(M,format='png',path='',name='graph_mine',prog='dot')"
     ],
     "language": "python",
     "metadata": {},
     "outputs": []
    },
    {
     "cell_type": "code",
     "collapsed": false,
     "input": [
      "M.sample(iter=10000, burn=1000, thin=10)"
     ],
     "language": "python",
     "metadata": {},
     "outputs": []
    },
    {
     "cell_type": "code",
     "collapsed": false,
     "input": [],
     "language": "python",
     "metadata": {},
     "outputs": []
    }
   ],
   "metadata": {}
  }
 ]
}