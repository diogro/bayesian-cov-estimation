{
 "metadata": {
  "name": "Monkey Model"
 },
 "nbformat": 3,
 "nbformat_minor": 0,
 "worksheets": [
  {
   "cells": [
    {
     "cell_type": "code",
     "collapsed": false,
     "input": [
      "import pymc as pm\n",
      "import pandas as pd\n",
      "import numpy as np\n",
      "import dendropy\n",
      "import monkey_model"
     ],
     "language": "python",
     "metadata": {},
     "outputs": [],
     "prompt_number": 16
    },
    {
     "cell_type": "code",
     "collapsed": false,
     "input": [
      "M = pm.MCMC(monkey_model, db='pickle', dbname='NWM.pickle')"
     ],
     "language": "python",
     "metadata": {},
     "outputs": [],
     "prompt_number": 17
    },
    {
     "cell_type": "code",
     "collapsed": false,
     "input": [
      "pm.graph.graph(M,format='plain',path='',name='graph_mine')"
     ],
     "language": "python",
     "metadata": {},
     "outputs": [
      {
       "output_type": "pyout",
       "prompt_number": 18,
       "text": [
        "<pydot.Dot at 0x4b385d0>"
       ]
      }
     ],
     "prompt_number": 18
    },
    {
     "cell_type": "code",
     "collapsed": false,
     "input": [
      "M.sample(iter=100000, burn=10000, thin=100)\n",
      "M.db.close()"
     ],
     "language": "python",
     "metadata": {},
     "outputs": [
      {
       "output_type": "stream",
       "stream": "stdout",
       "text": [
        " \r",
        "[****************100%******************]  100000 of 100000 complete"
       ]
      },
      {
       "output_type": "stream",
       "stream": "stdout",
       "text": [
        "\n"
       ]
      }
     ],
     "prompt_number": 19
    },
    {
     "cell_type": "code",
     "collapsed": false,
     "input": [
      "t = dendropy.Tree.get_from_path(\"./nwm.tree.nw\", \"newick\")\n",
      "print t.print_plot()"
     ],
     "language": "python",
     "metadata": {},
     "outputs": [
      {
       "output_type": "stream",
       "stream": "stdout",
       "text": [
        "                                /--- Alouatta belzebul       \n",
        "                             /--+                            \n",
        "                             |  \\--- Alouatta palliata       \n",
        "                          /--+                               \n",
        "                          |  |  /--- Alouatta caraya         \n",
        "                      /---+  \\--+                            \n",
        "                      |   |     \\--- Alouatta seniculus      \n",
        "                      |   |                                  \n",
        "                      |   \\--------- Alouatta guariba        \n",
        "   /------------------+                                      \n",
        "   |                  |         /--- Ateles belzebuth        \n",
        "   |                  |      /--+                            \n",
        "   |                  |   /--+  \\--- Ateles geoffroyi        \n",
        "   |                  |   |  |                               \n",
        "   |                  \\---+  \\------ Ateles paniscus         \n",
        "   |                      |                                  \n",
        "   |                      \\--------- Brachyteles arachnoides \n",
        "   |                                                         \n",
        "   |                            /--- Aotus azarai boliviensis\n",
        "   |                         /--+                            \n",
        "   |     /-------------------+  \\--- Aotus nigriceps         \n",
        "   |     |                   |                               \n",
        "   |     |                   \\------ Aotus lemurinus         \n",
        "   |     |                                                   \n",
        "/--+     |         /---------------- Callimico goeldii       \n",
        "|  |     |         |                                         \n",
        "|  |     |         |            /--- Callithrix argentata    \n",
        "|  |     |      /--+         /--+                            \n",
        "|  |     |      |  |  /------+  \\--- Callithrix humeralifera \n",
        "|  |  /--+      |  |  |      |                               \n",
        "|  |  |  |      |  \\--+      \\------ Callithrix pygmaea      \n",
        "|  |  |  |      |     |                                      \n",
        "|  |  |  |      |     |   /--------- Callithrix geoffroyi    \n",
        "|  |  |  |   /--+     \\---+                                  \n",
        "|  |  |  |   |  |         |  /------ Callithrix jacchus      \n",
        "|  |  |  |   |  |         \\--+                               \n",
        "|  |  |  |   |  |            |  /--- Callithrix kuhli        \n",
        "|  |  |  |   |  |            \\--+                            \n",
        "|  |  |  \\---+  |               \\--- Callithrix penicillata  \n",
        "|  |  |      |  |                                            \n",
        "|  \\--+      |  \\------------------- Leontopithecus rosalia  \n",
        "|     |      |                                               \n",
        "|     |      |                  /--- Saguinus midas          \n",
        "|     |      |               /--+                            \n",
        "|     |      \\---------------+  \\--- Saguinus mystax         \n",
        "+     |                      |                               \n",
        "|     |                      \\------ Saguinus fuscicollis    \n",
        "|     |                                                      \n",
        "|     |                         /--- Cebus albifrons         \n",
        "|     |                   /-----+                            \n",
        "|     |                   |     \\--- Cebus apella            \n",
        "|     \\-------------------+                                  \n",
        "|                         |  /------ Saimiri boliviensis     \n",
        "|                         \\--+                               \n",
        "|                            |  /--- Saimiri oerstedii       \n",
        "|                            \\--+                            \n",
        "|                               \\--- Saimiri sciureus        \n",
        "|                                                            \n",
        "|                               /--- Cacajao calvus          \n",
        "|                               |                            \n",
        "|                            /--+--- Cacajao melanocephalus  \n",
        "|                            |  |                            \n",
        "|                         /--+  \\--- Chiropotes satanas      \n",
        "|                         |  |                               \n",
        "|                         |  |  /--- Pithecia irrorata       \n",
        "|                         |  \\--+                            \n",
        "\\-------------------------+     \\--- Pithecia pithecia       \n",
        "                          |                                  \n",
        "                          |     /--- Callicebus moloch       \n",
        "                          |  /--+                            \n",
        "                          \\--+  \\--- Callicebus personatus   \n",
        "                             |                               \n",
        "                             \\------ Callicebus torquatus    \n",
        "                                                             \n",
        "                                                             \n",
        "None\n"
       ]
      }
     ],
     "prompt_number": 55
    },
    {
     "cell_type": "code",
     "collapsed": false,
     "input": [
      "db = pm.database.pickle.load('NWM.pickle')\n",
      "\n"
     ],
     "language": "python",
     "metadata": {},
     "outputs": [],
     "prompt_number": 21
    },
    {
     "cell_type": "code",
     "collapsed": false,
     "input": [
      "M = pm.MCMC(monkey_model, db=db)\n"
     ],
     "language": "python",
     "metadata": {},
     "outputs": [],
     "prompt_number": 31
    },
    {
     "cell_type": "code",
     "collapsed": false,
     "input": [
      "M.theta[6].trace[:].mean(0)"
     ],
     "language": "python",
     "metadata": {},
     "outputs": [
      {
       "output_type": "pyout",
       "prompt_number": 34,
       "text": [
        "array([  9.27439176,  21.27636486,  40.57654665,  31.26946057,\n",
        "        40.1303575 ,  38.10495399,  20.35674758,  24.80089694,\n",
        "        41.89986155,  44.32242954,  27.11605891,  28.63934107,\n",
        "        39.43202139,  37.38609442,  12.57230446,  28.90213223,\n",
        "        48.16639771,  30.18887555,  23.46524105,   7.7931835 ,\n",
        "        16.66483452,  35.09361747,  21.84614042,  17.31842118,\n",
        "        21.37814413,  30.08815676,  15.71048916,  29.8344399 ,\n",
        "        22.52336953,  11.98055885,  26.5727405 ,  28.06215082,\n",
        "        21.36984909,  22.72726116,  30.25810019,  21.31389545,\n",
        "        48.402301  ,  20.90905688,  12.68444032])"
       ]
      }
     ],
     "prompt_number": 34
    },
    {
     "cell_type": "code",
     "collapsed": false,
     "input": [
      "alouata = open('alouata.csv', 'w')\n",
      "(M.sigma[6].trace[:].mean(0)).tofile(alouata, sep=';')"
     ],
     "language": "python",
     "metadata": {},
     "outputs": [],
     "prompt_number": 52
    },
    {
     "cell_type": "code",
     "collapsed": false,
     "input": [
      "(M.sigma[6].trace[:].mean(0))"
     ],
     "language": "python",
     "metadata": {},
     "outputs": [
      {
       "output_type": "pyout",
       "prompt_number": 51,
       "text": [
        "array([[ 0.74279845,  0.09360279,  0.56169059, ...,  0.13198733,\n",
        "         0.05956982, -0.02411531],\n",
        "       [ 0.09360279,  2.55975106,  0.87492251, ...,  0.20383658,\n",
        "        -0.28684925, -0.002002  ],\n",
        "       [ 0.56169059,  0.87492251,  3.3885656 , ...,  0.01949785,\n",
        "         0.40122013,  0.0081618 ],\n",
        "       ..., \n",
        "       [ 0.13198733,  0.20383658,  0.01949785, ...,  2.28626352,\n",
        "         0.23454696,  0.17862959],\n",
        "       [ 0.05956982, -0.28684925,  0.40122013, ...,  0.23454696,\n",
        "         1.69865763,  0.23518191],\n",
        "       [-0.02411531, -0.002002  ,  0.0081618 , ...,  0.17862959,\n",
        "         0.23518191,  1.2164121 ]])"
       ]
      }
     ],
     "prompt_number": 51
    },
    {
     "cell_type": "code",
     "collapsed": false,
     "input": [
      "root = t.seed_node\n",
      "tree_idx = {str(root): 0}\n",
      "\n",
      "i = 1\n",
      "for n in t.nodes()[1:]:\n",
      "   \n",
      "    tree_idx[str(n)] = i\n",
      "    i = i + 1\n",
      "\n",
      "nwm_cov = open('nwm.cov.bayes.csv', 'w')\n",
      "nwm_names = open('nwm.names.txt', 'w')\n",
      "\n",
      "for n in t.leaf_nodes():\n",
      "    print str(n.taxon), tree_idx[str(n)]\n",
      "    (M.sigma[tree_idx[str(n)]].trace[:].mean(0)).tofile(nwm_cov, sep=';')\n",
      "    nwm_cov.write('\\n')\n",
      "    nwm_names.write(str(n.taxon).replace(' ', '_') + '\\n')\n",
      "nwm_names.flush()\n",
      "nwm_cov.flush()"
     ],
     "language": "python",
     "metadata": {},
     "outputs": [
      {
       "output_type": "stream",
       "stream": "stdout",
       "text": [
        "Alouatta belzebul 6\n",
        "Alouatta palliata 7\n",
        "Alouatta caraya 9\n",
        "Alouatta seniculus 10\n",
        "Alouatta guariba 11\n",
        "Ateles belzebuth"
       ]
      },
      {
       "output_type": "stream",
       "stream": "stdout",
       "text": [
        " 15\n",
        "Ateles geoffroyi 16\n",
        "Ateles paniscus 17\n",
        "Brachyteles arachnoides 18\n",
        "Aotus azarai boliviensis 23\n",
        "Aotus nigriceps"
       ]
      },
      {
       "output_type": "stream",
       "stream": "stdout",
       "text": [
        " 24\n",
        "Aotus lemurinus 25\n",
        "Callimico goeldii 29\n",
        "Callithrix argentata 33\n",
        "Callithrix humeralifera 34\n",
        "Callithrix pygmaea"
       ]
      },
      {
       "output_type": "stream",
       "stream": "stdout",
       "text": [
        " 35\n",
        "Callithrix geoffroyi 37\n",
        "Callithrix jacchus 39\n",
        "Callithrix kuhli 41\n",
        "Callithrix penicillata 42\n",
        "Leontopithecus rosalia"
       ]
      },
      {
       "output_type": "stream",
       "stream": "stdout",
       "text": [
        " 43\n",
        "Saguinus midas 46\n",
        "Saguinus mystax 47\n",
        "Saguinus fuscicollis 48\n",
        "Cebus albifrons 51\n",
        "Cebus apella"
       ]
      },
      {
       "output_type": "stream",
       "stream": "stdout",
       "text": [
        " 52\n",
        "Saimiri boliviensis 54\n",
        "Saimiri oerstedii 56\n",
        "Saimiri sciureus 57\n",
        "Cacajao calvus 61\n",
        "Cacajao melanocephalus"
       ]
      },
      {
       "output_type": "stream",
       "stream": "stdout",
       "text": [
        " 62\n",
        "Chiropotes satanas 63\n",
        "Pithecia irrorata 65\n",
        "Pithecia pithecia 66\n",
        "Callicebus moloch 69\n",
        "Callicebus personatus"
       ]
      },
      {
       "output_type": "stream",
       "stream": "stdout",
       "text": [
        " 70\n",
        "Callicebus torquatus 71\n"
       ]
      }
     ],
     "prompt_number": 70
    },
    {
     "cell_type": "code",
     "collapsed": false,
     "input": [],
     "language": "python",
     "metadata": {},
     "outputs": []
    }
   ],
   "metadata": {}
  }
 ]
}