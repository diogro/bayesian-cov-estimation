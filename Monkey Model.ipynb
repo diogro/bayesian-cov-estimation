{
 "metadata": {
  "name": "Monkey Model"
 },
 "nbformat": 3,
 "nbformat_minor": 0,
 "worksheets": [
  {
   "cells": [
    {
     "cell_type": "code",
     "collapsed": false,
     "input": [
      "import pymc as pm\n",
      "import pandas as pd\n",
      "import numpy as np\n",
      "import dendropy\n",
      "import monkey_model\n",
      "import matrix_functions as mf"
     ],
     "language": "python",
     "metadata": {},
     "outputs": [],
     "prompt_number": 1
    },
    {
     "cell_type": "code",
     "collapsed": false,
     "input": [
      "M = pm.MCMC(monkey_model, db='pickle', dbname='NWM.pickle')"
     ],
     "language": "python",
     "metadata": {},
     "outputs": [],
     "prompt_number": 2
    },
    {
     "cell_type": "code",
     "collapsed": false,
     "input": [
      "M.sample(iter=100000, burn=90000, thin=100)\n",
      "M.db.close()"
     ],
     "language": "python",
     "metadata": {},
     "outputs": [
      {
       "output_type": "stream",
       "stream": "stdout",
       "text": [
        " \r",
        "[****************100%******************]  100000 of 100000 complete"
       ]
      },
      {
       "output_type": "stream",
       "stream": "stdout",
       "text": [
        "\n"
       ]
      }
     ],
     "prompt_number": 3
    },
    {
     "cell_type": "code",
     "collapsed": false,
     "input": [
      "t = monkey_model.t\n",
      "print t.print_plot()"
     ],
     "language": "python",
     "metadata": {},
     "outputs": [
      {
       "output_type": "stream",
       "stream": "stdout",
       "text": [
        "                                                                      /--------- Aotus azarai boliviensis\n",
        "                                                            /---------+                                  \n",
        "/-----------------------------------------------------------+         \\--------- Aotus nigriceps         \n",
        "|                                                           |                                            \n",
        "|                                                           \\------------------- Aotus lemurinus         \n",
        "|                                                                                                        \n",
        "|                             /------------------------------------------------- Callimico goeldii       \n",
        "|                             |                                                                          \n",
        "|                             |                                       /--------- Callithrix argentata    \n",
        "|                   /---------+                             /---------+                                  \n",
        "|                   |         |         /-------------------+         \\--------- Callithrix humeralifera \n",
        "+                   |         |         |                   |                                            \n",
        "|                   |         \\---------+                   \\------------------- Callithrix pygmaea      \n",
        "|                   |                   |                                                                \n",
        "|                   |                   |         /----------------------------- Callithrix geoffroyi    \n",
        "|         /---------+                   \\---------+                                                      \n",
        "|         |         |                             |         /------------------- Callithrix jacchus      \n",
        "|         |         |                             \\---------+                                            \n",
        "|         |         |                                       |         /--------- Callithrix kuhli        \n",
        "|         |         |                                       \\---------+                                  \n",
        "\\---------+         |                                                 \\--------- Callithrix penicillata  \n",
        "          |         |                                                                                    \n",
        "          |         \\----------------------------------------------------------- Leontopithecus rosalia  \n",
        "          |                                                                                              \n",
        "          |                                                           /--------- Saguinus midas          \n",
        "          |                                                 /---------+                                  \n",
        "          \\-------------------------------------------------+         \\--------- Saguinus mystax         \n",
        "                                                            |                                            \n",
        "                                                            \\------------------- Saguinus fuscicollis    \n",
        "                                                                                                         \n",
        "                                                                                                         \n",
        "None\n"
       ]
      }
     ],
     "prompt_number": 6
    },
    {
     "cell_type": "code",
     "collapsed": false,
     "input": [
      "pm.graph.graph(M,format='dot',path='',name='graph_small_nwm.png')"
     ],
     "language": "python",
     "metadata": {},
     "outputs": [
      {
       "output_type": "pyout",
       "prompt_number": 8,
       "text": [
        "<pydot.Dot at 0x26c5ad0>"
       ]
      }
     ],
     "prompt_number": 8
    },
    {
     "cell_type": "code",
     "collapsed": false,
     "input": [
      "db = pm.database.pickle.load('NWM.pickle')\n",
      "M = pm.MCMC(monkey_model, db=db)"
     ],
     "language": "python",
     "metadata": {},
     "outputs": [],
     "prompt_number": 8
    },
    {
     "cell_type": "code",
     "collapsed": false,
     "input": [
      "root = t.seed_node\n",
      "tree_idx = {str(root): 0}\n",
      "bayes_means = {str(root): M.theta[tree_idx[str(root)]].trace[:].mean(0)}\n",
      "bayes_matrices = {str(root): M.sigma[tree_idx[str(root)]].trace[:].mean(0)}\n",
      "ML_matrices = monkey_model.node_matrices\n",
      "\n",
      "i = 1\n",
      "for n in t.nodes()[1:]:\n",
      "    tree_idx[str(n)] = i\n",
      "    bayes_means[str(n)] = M.theta[tree_idx[str(n)]].trace[:].mean(0)\n",
      "    bayes_matrices[str(n)] = M.sigma[tree_idx[str(n)]].trace[:].mean(0)\n",
      "    i = i + 1\n",
      "\n",
      "is_named = lambda node: ((node.taxon is not None) or (node.label is not None))\n",
      "\n",
      "get_node_name = lambda n: n.label or n.taxon or None\n",
      "\n",
      "for n in t.nodes(filter_fn=(is_named)):\n",
      "    name = get_node_name(n)\n",
      "    print str(name), tree_idx[str(n)]"
     ],
     "language": "python",
     "metadata": {},
     "outputs": [
      {
       "output_type": "stream",
       "stream": "stdout",
       "text": [
        "Aotus 1\n",
        "Aotus azarai boliviensis 3\n",
        "Aotus nigriceps 4\n",
        "Aotus lemurinus 5\n",
        "Callimico goeldii 9\n",
        "Callitrhix 10\n",
        "Callithrix argentata 13\n",
        "Callithrix humeralifera 14\n",
        "Callithrix pygmaea 15\n",
        "Callithrix geoffroyi 17\n",
        "Callithrix jacchus 19\n",
        "Callithrix kuhli 21\n",
        "Callithrix penicillata 22\n",
        "Leontopithecus rosalia 23\n",
        "Saguinus 24\n",
        "Saguinus midas 26\n",
        "Saguinus mystax 27\n",
        "Saguinus fuscicollis 28\n"
       ]
      }
     ],
     "prompt_number": 29
    },
    {
     "cell_type": "code",
     "collapsed": false,
     "input": [
      "nwm_cov = open('/home/diogro/Dropbox/labbio/cov_bayes_data/small.nwm.matrix.cov.bayes.csv', 'w')\n",
      "nwm_means = open('/home/diogro/Dropbox/labbio/cov_bayes_data/small.nwm.matrix.means.bayes.csv', 'w')\n",
      "nwm_names = open('/home/diogro/Dropbox/labbio/cov_bayes_data/small.nwm.names.txt', 'w')\n",
      "for n in t.nodes(filter_fn=(is_named)):\n",
      "    name = get_node_name(n)\n",
      "    (bayes_matrices[str(n)]).tofile(nwm_cov, sep=';')\n",
      "    (bayes_means[str(n)]).tofile(nwm_means, sep=';')\n",
      "    nwm_cov.write('\\n')\n",
      "    nwm_means.write('\\n')\n",
      "    nwm_names.write(str(name).replace(' ', '_') + '\\n')\n",
      "nwm_names.flush()\n",
      "nwm_cov.flush()\n",
      "nwm_means.flush()"
     ],
     "language": "python",
     "metadata": {},
     "outputs": [],
     "prompt_number": 21
    },
    {
     "cell_type": "code",
     "collapsed": false,
     "input": [],
     "language": "python",
     "metadata": {},
     "outputs": []
    }
   ],
   "metadata": {}
  }
 ]
}