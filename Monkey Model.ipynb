{
 "metadata": {
  "name": "Monkey Model"
 },
 "nbformat": 3,
 "nbformat_minor": 0,
 "worksheets": [
  {
   "cells": [
    {
     "cell_type": "code",
     "collapsed": false,
     "input": [
      "import pymc as pm\n",
      "import pandas as pd\n",
      "import numpy as np\n",
      "import dendropy\n",
      "import monkey_model"
     ],
     "language": "python",
     "metadata": {},
     "outputs": [],
     "prompt_number": 1
    },
    {
     "cell_type": "code",
     "collapsed": false,
     "input": [
      "M = pm.MCMC(monkey_model, db='pickle', dbname='NWM.pickle')"
     ],
     "language": "python",
     "metadata": {},
     "outputs": [],
     "prompt_number": 2
    },
    {
     "cell_type": "code",
     "collapsed": false,
     "input": [
      "pm.graph.graph(M,format='dot',path='',name='graph_small_nwm.png')"
     ],
     "language": "python",
     "metadata": {},
     "outputs": [
      {
       "output_type": "pyout",
       "prompt_number": 3,
       "text": [
        "<pydot.Dot at 0x4fcc7d0>"
       ]
      }
     ],
     "prompt_number": 3
    },
    {
     "cell_type": "code",
     "collapsed": false,
     "input": [
      "M.sample(iter=100000, burn=90000, thin=100)\n",
      "M.db.close()"
     ],
     "language": "python",
     "metadata": {},
     "outputs": [
      {
       "output_type": "stream",
       "stream": "stdout",
       "text": [
        " \r",
        "[****************100%******************]  100000 of 100000 complete"
       ]
      },
      {
       "output_type": "stream",
       "stream": "stdout",
       "text": [
        "\n"
       ]
      }
     ],
     "prompt_number": 3
    },
    {
     "cell_type": "code",
     "collapsed": false,
     "input": [
      "t = dendropy.Tree.get_from_path(\"./small.nwm.tree.nw\", \"newick\")\n",
      "print t.print_plot()"
     ],
     "language": "python",
     "metadata": {},
     "outputs": [
      {
       "output_type": "stream",
       "stream": "stdout",
       "text": [
        "                               /---- Aotus azarai boliviensis\n",
        "                           /---+                             \n",
        "/--------------------------+   \\---- Aotus nigriceps         \n",
        "|                          |                                 \n",
        "|                          \\-------- Aotus lemurinus         \n",
        "|                                                            \n",
        "|            /---------------------- Callimico goeldii       \n",
        "|            |                                               \n",
        "|            |                 /---- Callithrix argentata    \n",
        "|        /---+             /---+                             \n",
        "|        |   |    /--------+   \\---- Callithrix humeralifera \n",
        "+        |   |    |        |                                 \n",
        "|        |   \\----+        \\-------- Callithrix pygmaea      \n",
        "|        |        |                                          \n",
        "|        |        |   /------------- Callithrix geoffroyi    \n",
        "|   /----+        \\---+                                      \n",
        "|   |    |            |    /-------- Callithrix jacchus      \n",
        "|   |    |            \\----+                                 \n",
        "|   |    |                 |   /---- Callithrix kuhli        \n",
        "|   |    |                 \\---+                             \n",
        "\\---+    |                     \\---- Callithrix penicillata  \n",
        "    |    |                                                   \n",
        "    |    \\-------------------------- Leontopithecus rosalia  \n",
        "    |                                                        \n",
        "    |                          /---- Saguinus midas          \n",
        "    |                      /---+                             \n",
        "    \\----------------------+   \\---- Saguinus mystax         \n",
        "                           |                                 \n",
        "                           \\-------- Saguinus fuscicollis    \n",
        "                                                             \n",
        "                                                             \n",
        "None\n"
       ]
      }
     ],
     "prompt_number": 30
    },
    {
     "cell_type": "code",
     "collapsed": false,
     "input": [
      "db = pm.database.pickle.load('NWM.pickle')\n",
      "\n"
     ],
     "language": "python",
     "metadata": {},
     "outputs": [],
     "prompt_number": 4
    },
    {
     "cell_type": "code",
     "collapsed": false,
     "input": [
      "M = pm.MCMC(monkey_model, db=db)\n"
     ],
     "language": "python",
     "metadata": {},
     "outputs": [],
     "prompt_number": 5
    },
    {
     "cell_type": "code",
     "collapsed": false,
     "input": [
      "M.theta[3].trace[:].mean(0)"
     ],
     "language": "python",
     "metadata": {},
     "outputs": [
      {
       "output_type": "pyout",
       "prompt_number": 8,
       "text": [
        "array([  6.07493666,  10.90877852,  18.87291863,  14.4078275 ,\n",
        "        19.600103  ,  17.17773377,  14.76191146,  17.30206823,\n",
        "        24.86277938,  23.59066435,  18.70036683,  20.99405451,\n",
        "        20.55826201,  25.34095102,   8.42805066,  18.24679718,\n",
        "        27.43743089,  16.3664313 ,  13.99176481,   7.01360487,\n",
        "        11.08917617,  21.65830271,  12.09404493,   8.67208543,\n",
        "        11.65751918,  13.05448949,   7.76260254,  12.89984993,\n",
        "        10.3002092 ,   8.6793183 ,  16.07561032,   7.53523856,\n",
        "         8.21766587,  13.97168998,  26.53890645,  15.67939656,\n",
        "        26.78729914,  13.11106717,   8.73305005])"
       ]
      }
     ],
     "prompt_number": 8
    },
    {
     "cell_type": "code",
     "collapsed": false,
     "input": [
      "alouata = open('alouata.csv', 'w')\n",
      "(M.sigma[6].trace[:].mean(0)).tofile(alouata, sep=';')"
     ],
     "language": "python",
     "metadata": {},
     "outputs": []
    },
    {
     "cell_type": "code",
     "collapsed": false,
     "input": [
      "(M.sigma[6].trace[:].mean(0))"
     ],
     "language": "python",
     "metadata": {},
     "outputs": []
    },
    {
     "cell_type": "code",
     "collapsed": false,
     "input": [
      "t = dendropy.Tree.get_from_path(\"./small.nwm.tree.nw\", \"newick\")\n",
      "root = t.seed_node\n",
      "tree_idx = {str(root): 0}\n",
      "\n",
      "i = 1\n",
      "for n in t.nodes()[1:]:\n",
      "   \n",
      "    tree_idx[str(n)] = i\n",
      "    i = i + 1\n",
      "\n",
      "nwm_cov = open('/home/diogro/Dropbox/labbio/cov_bayes_data/small.nwm.matrix.cov.bayes.csv', 'w')\n",
      "nwm_means = open('/home/diogro/Dropbox/labbio/cov_bayes_data/small.nwm.matrix.means.bayes.csv', 'w')\n",
      "nwm_names = open('/home/diogro/Dropbox/labbio/cov_bayes_data/small.nwm.names.txt', 'w')\n",
      "\n",
      "def is_named(node):\n",
      "    return ((node.taxon is not None) or (node.label is not None))\n",
      "\n",
      "for n in t.nodes(filter_fn=(is_named)):\n",
      "    if (n.label is None):\n",
      "        name = n.taxon\n",
      "    else:\n",
      "        name = n.label\n",
      "    print str(name), tree_idx[str(n)]\n",
      "    (M.sigma[tree_idx[str(n)]].trace[:].mean(0)).tofile(nwm_cov, sep=';')\n",
      "    (M.theta[tree_idx[str(n)]].trace[:].mean(0)).tofile(nwm_means, sep=';')\n",
      "    nwm_cov.write('\\n')\n",
      "    nwm_means.write('\\n')\n",
      "    nwm_names.write(str(name).replace(' ', '_') + '\\n')\n",
      "nwm_names.flush()\n",
      "nwm_cov.flush()\n",
      "nwm_means.flush()"
     ],
     "language": "python",
     "metadata": {},
     "outputs": [
      {
       "output_type": "stream",
       "stream": "stdout",
       "text": [
        "Aotus 1\n",
        "Aotus azarai boliviensis 3\n",
        "Aotus nigriceps 4\n",
        "Aotus lemurinus 5\n",
        "Callimico goeldii 9\n",
        "Callitrhix 10\n",
        "Callithrix argentata 13\n",
        "Callithrix humeralifera 14\n",
        "Callithrix pygmaea 15\n",
        "Callithrix geoffroyi 17\n",
        "Callithrix jacchus 19\n",
        "Callithrix kuhli 21\n",
        "Callithrix penicillata 22\n",
        "Leontopithecus rosalia 23\n",
        "Saguinus 24\n",
        "Saguinus midas 26\n",
        "Saguinus mystax 27\n",
        "Saguinus fuscicollis 28\n"
       ]
      }
     ],
     "prompt_number": 31
    },
    {
     "cell_type": "code",
     "collapsed": false,
     "input": [
      "|"
     ],
     "language": "python",
     "metadata": {},
     "outputs": []
    }
   ],
   "metadata": {}
  }
 ]
}