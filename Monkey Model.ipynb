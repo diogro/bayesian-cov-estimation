{
 "metadata": {
  "name": "Monkey Model"
 },
 "nbformat": 3,
 "nbformat_minor": 0,
 "worksheets": [
  {
   "cells": [
    {
     "cell_type": "code",
     "collapsed": false,
     "input": [
      "import pymc as pm\n",
      "import pandas as pd\n",
      "import numpy as np\n",
      "import dendropy\n",
      "import monkey_model"
     ],
     "language": "python",
     "metadata": {},
     "outputs": [],
     "prompt_number": 16
    },
    {
     "cell_type": "code",
     "collapsed": false,
     "input": [
      "data = pd.read_csv(\"./monkey.data.csv\")\n",
      "\n",
      "t = dendropy.Tree.get_from_path(\"./nwm.tree.nw\", \"newick\")\n",
      "num_leafs = len(t.leaf_nodes())\n",
      "num_traits = 39\n",
      "\n",
      "root = t.seed_node\n",
      "\n",
      "theta = [pm.MvNormalCov('theta_0',\n",
      "                        mu=np.array(data.ix[:,0:num_traits].mean()),\n",
      "                        C=np.eye(num_traits)*10.,\n",
      "                        value=np.zeros(num_traits))]\n",
      "\n",
      "sigma = [pm.WishartCov('sigma_0',\n",
      "                       n=num_traits+1,\n",
      "                       C=np.eye(num_traits)*10.,\n",
      "                       value=np.eye(num_traits))]\n",
      "\n",
      "tree_idx = {str(root): 0}\n",
      "\n",
      "i = 1\n",
      "for n in t.nodes()[1:]:\n",
      "    parent_idx = tree_idx[str(n.parent_node)]\n",
      "\n",
      "    theta.append(pm.MvNormalCov('theta_{}'.format(str(i)),\n",
      "                                mu=theta[parent_idx],\n",
      "                                C=sigma[parent_idx],\n",
      "                                value=np.zeros(num_traits)))\n",
      "\n",
      "    sigma.append(pm.WishartCov('sigma_{}'.format(str(i)),\n",
      "                               n=num_traits+1,\n",
      "                               C=sigma[parent_idx],\n",
      "                               value=np.eye(num_traits)))\n",
      "\n",
      "    tree_idx[str(n)] = len(theta) - 1\n",
      "    i = i + 1\n",
      "\n",
      "sub_effects = {}\n",
      "for n in t.leaf_nodes():\n",
      "    sub_list = list(data.ix[data['species']==str(n.taxon),'SUB'])\n",
      "    sub_effects[str(n)] = [sub_list[1]]\n",
      "    for sub in sub_list[1:]:\n",
      "        if not (any(sub in s for s in sub_effects[str(n)])):\n",
      "            sub_effects[str(n)].append(sub)\n",
      "\n",
      "sex_effects = {}\n",
      "for n in t.leaf_nodes():\n",
      "    sex_list = list(data.ix[data['species']==str(n.taxon),'SEX'])\n",
      "    sex_effects[str(n)] = [sex_list[1]]\n",
      "    for sex in sex_list[1:]:\n",
      "        if not (any(sex in s for s in sex_effects[str(n)])):\n",
      "            sex_effects[str(n)].append(sex)\n",
      "\n",
      "data_list = []\n",
      "for n in t.leaf_nodes():\n",
      "    leaf_idx = tree_idx[str(n)]\n",
      "    for sub in sub_effects[str(n)]:\n",
      "        for sex in sex_effects[str(n)]:\n",
      "            theta.append(pm.MvNormalCov('theta_{}_{}_{}'.format(n.taxon, str(sub), sex),\n",
      "                                        mu=theta[leaf_idx],\n",
      "                                        C=sigma[leaf_idx],\n",
      "                                        value=np.zeros(num_traits)))\n",
      "            data_list.append(pm.MvNormalCov('data_{}_{}_{}'.format(n.taxon, str(sub), sex),\n",
      "                                            mu=theta[len(theta)-1],\n",
      "                                            C=sigma[leaf_idx],\n",
      "                                            value=np.array(data.ix[(data['species'] == str(n.taxon)) & (data['SUB'] == sub) & (data['SEX'] == sex), 0:num_traits]),\n",
      "                                            observed=True))\n"
     ],
     "language": "python",
     "metadata": {},
     "outputs": []
    },
    {
     "cell_type": "code",
     "collapsed": false,
     "input": [
      "M = pm.MCMC(monkey_model, db='pickle', dbname='NWM.pickle')"
     ],
     "language": "python",
     "metadata": {},
     "outputs": [],
     "prompt_number": 17
    },
    {
     "cell_type": "code",
     "collapsed": false,
     "input": [
      "pm.graph.graph(M,format='plain',path='',name='graph_mine')"
     ],
     "language": "python",
     "metadata": {},
     "outputs": [
      {
       "output_type": "pyout",
       "prompt_number": 18,
       "text": [
        "<pydot.Dot at 0x4b385d0>"
       ]
      }
     ],
     "prompt_number": 18
    },
    {
     "cell_type": "code",
     "collapsed": false,
     "input": [
      "M.sample(iter=100000, burn=10000, thin=100)\n",
      "M.db.close()"
     ],
     "language": "python",
     "metadata": {},
     "outputs": [
      {
       "output_type": "stream",
       "stream": "stdout",
       "text": [
        " \r",
        "[                  0%                  ]  100 of 100000 complete"
       ]
      }
     ],
     "prompt_number": "*"
    },
    {
     "cell_type": "code",
     "collapsed": false,
     "input": [
      "t = dendropy.Tree.get_from_path(\"./nwm.tree.nw\", \"newick\")\n",
      "print t.print_plot()"
     ],
     "language": "python",
     "metadata": {},
     "outputs": []
    },
    {
     "cell_type": "code",
     "collapsed": false,
     "input": [
      "db = pymc.database.pickle.load('NWM.pickle')"
     ],
     "language": "python",
     "metadata": {},
     "outputs": []
    },
    {
     "cell_type": "code",
     "collapsed": false,
     "input": [
      "x= db.sigma[6].trace[:].mean(0)\n"
     ],
     "language": "python",
     "metadata": {},
     "outputs": [],
     "prompt_number": 12
    },
    {
     "cell_type": "code",
     "collapsed": false,
     "input": [],
     "language": "python",
     "metadata": {},
     "outputs": []
    },
    {
     "cell_type": "code",
     "collapsed": false,
     "input": [],
     "language": "python",
     "metadata": {},
     "outputs": []
    }
   ],
   "metadata": {}
  }
 ]
}